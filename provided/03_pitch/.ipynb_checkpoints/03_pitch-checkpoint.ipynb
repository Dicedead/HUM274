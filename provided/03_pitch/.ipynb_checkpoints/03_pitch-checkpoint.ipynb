{
 "cells": [
  {
   "cell_type": "code",
   "execution_count": null,
   "metadata": {},
   "outputs": [],
   "source": [
    "import numpy as np\n",
    "import pandas as pd\n",
    "\n",
    "from fractions import Fraction\n",
    "from collections import defaultdict, Counter\n",
    "from iteration_utilities import deepflatten #flatten nested lists\n",
    "import matplotlib.pyplot as plt\n",
    "\n",
    "from music21 import midi, note, interval, pitch, serial, stream, instrument, meter, key, converter, scale, graph\n",
    "import itertools\n",
    "import random\n",
    "\n",
    "\n",
    "import nltk #for NLP\n",
    "import string\n",
    "import mchmm #for Markov models"
   ]
  },
  {
   "cell_type": "markdown",
   "metadata": {},
   "source": [
    "# Helpers"
   ]
  },
  {
   "cell_type": "code",
   "execution_count": null,
   "metadata": {},
   "outputs": [],
   "source": [
    "def play(stream):\n",
    "    \"\"\"Shortcut to play a stream\"\"\"\n",
    "    midi.realtime.StreamPlayer(stream).play()\n",
    "    \n",
    "def get_stream(pitches, **kwargs):\n",
    "    \"\"\"Turns a collection of pitches into a Stream.\"\"\"\n",
    "    st = stream.Stream(**kwargs)\n",
    "    if isinstance(pitches[0], pitch.Pitch):\n",
    "        for p in pitches:\n",
    "            st.append(note.Note(p))\n",
    "    else:\n",
    "        for p in pitches:\n",
    "            st.append(p)\n",
    "    return st\n",
    "\n",
    "def get_measure(pitches, dur=1, **kwargs):\n",
    "    \"\"\"Turns a collection of pitches into a stream.Measure\"\"\"\n",
    "    st = stream.Measure(**kwargs)\n",
    "    if isinstance(pitches[0], pitch.Pitch):\n",
    "        for p in pitches:\n",
    "            st.append(note.Note(p, quarterLength=dur))\n",
    "    else:\n",
    "        for p in pitches:\n",
    "            st.append(p)\n",
    "    return st\n",
    "\n",
    "def get_notes(pitches, **kwargs):\n",
    "    \"\"\"Convert a collection of pitches into a list of Notes\"\"\"\n",
    "    return [note.Note(p, **kwargs) for p in pitches]\n"
   ]
  },
  {
   "cell_type": "markdown",
   "metadata": {},
   "source": [
    "In many musical cultures, the organisation of pitch is based on the selection of an alphabet of pitch material. In most of the Western classical tradition, the largest alphabet is formed by the *chromatic* collection, comprising a subdivision of the octave in 12 chromatic steps, the *semitones*. "
   ]
  },
  {
   "cell_type": "code",
   "execution_count": null,
   "metadata": {},
   "outputs": [],
   "source": [
    "CHROMATIC = range(60, 60+13)\n",
    "m = stream.Measure()\n",
    "m.append([note.Note(pitch = x) for x in CHROMATIC])\n",
    "m.show()"
   ]
  },
  {
   "cell_type": "markdown",
   "metadata": {},
   "source": [
    "Intervals among pitches are computed by counting the number of 'steps' that separate them."
   ]
  },
  {
   "cell_type": "markdown",
   "metadata": {},
   "source": [
    "# Series"
   ]
  },
  {
   "cell_type": "markdown",
   "metadata": {},
   "source": [
    "A specific ordering of the 12 chromatic tones, a series, can be used as the building material for a composition, as proposed in the serialist twelve-tone technique. If we look at the incipit of Pierre Boulez' [*Structures 1a*](https://www.youtube.com/watch?v=EmErwN02fX0), we can observe that each one of the two pianos plays sequentially all 12 tones from the chromatic set. "
   ]
  },
  {
   "cell_type": "markdown",
   "metadata": {},
   "source": [
    "<img src=\"boulez.png\">"
   ]
  },
  {
   "cell_type": "markdown",
   "metadata": {},
   "source": [
    "First, let's focus on the Piano I part. The pitch material is the following:"
   ]
  },
  {
   "cell_type": "code",
   "execution_count": null,
   "metadata": {},
   "outputs": [],
   "source": [
    "sb = serial.ToneRow([3, 2, 9, 8, 7, 6, 4, 1, 0, 10, 5, 11])\n",
    "sb.show()"
   ]
  },
  {
   "cell_type": "markdown",
   "metadata": {},
   "source": [
    "This is the series, or twelve-tone row, upon which the composition of the whole piece is based. Each segment of the piece comprises a cycle of the twelve-tone row or of a transformation thereof. For example, the notes played by the Piano II are obtained by inverting all intervals in the original row:"
   ]
  },
  {
   "cell_type": "code",
   "execution_count": null,
   "metadata": {
    "scrolled": true
   },
   "outputs": [],
   "source": [
    "sb.originalCenteredTransformation('I',0).show()"
   ]
  },
  {
   "cell_type": "markdown",
   "metadata": {},
   "source": [
    "Beyond inversion, other possible transformations of a twelve-tone row include the retrograde (i.e., playing the row backwards):"
   ]
  },
  {
   "cell_type": "code",
   "execution_count": null,
   "metadata": {},
   "outputs": [],
   "source": [
    "sb.originalCenteredTransformation('R',0).show()"
   ]
  },
  {
   "cell_type": "markdown",
   "metadata": {},
   "source": [
    "and the retrograde inversion (i.e., playing the inversion of the original backwards):"
   ]
  },
  {
   "cell_type": "code",
   "execution_count": null,
   "metadata": {},
   "outputs": [],
   "source": [
    "sb.originalCenteredTransformation('RI',0).show()"
   ]
  },
  {
   "cell_type": "markdown",
   "metadata": {},
   "source": [
    "A row can also be transposed to start from a different note: here, for example, is the retrograde inverted form of the original row transposed 3 semitones up"
   ]
  },
  {
   "cell_type": "code",
   "execution_count": null,
   "metadata": {},
   "outputs": [],
   "source": [
    "sb.originalCenteredTransformation('RI',3).show()"
   ]
  },
  {
   "cell_type": "markdown",
   "metadata": {},
   "source": [
    "In *Structures*, pitch is not the only parameter of the music to be treated serially: the possible values of duration, intensity and articulation are also organised in rows, and the piece systematically cycles through the rows for each parameter. This technique is called *integral serialism*. Here are the rows for pitch, duration, intensity and articulation [(Lombardi & Wester, 2008)](https://www.jstor.org/stable/10.1525/mts.2008.30.2.339):"
   ]
  },
  {
   "cell_type": "markdown",
   "metadata": {},
   "source": [
    "<img src=\"boulezseries.png\">"
   ]
  },
  {
   "cell_type": "markdown",
   "metadata": {},
   "source": [
    "With *Structures*, Boulez wanted to *eradicate from my vocabulary absolutely every trace of the conventional, whether it concerned figures and phrases, or development and form; I then wanted gradually, element after element, to win back the various stages of the compositional process, in such a manner that a perfectly new synthesis might arise, a synthesis that would not be corrupted from the very outset by foreign bodies – stylistic reminiscences in particular* (Boulez, 1986). The integral serialist approach was the first step of this attempt to develop an \"unbiased\" compositional process."
   ]
  },
  {
   "cell_type": "markdown",
   "metadata": {},
   "source": [
    "# Pitch class and Pitch-class sets"
   ]
  },
  {
   "cell_type": "markdown",
   "metadata": {},
   "source": [
    "Starting from the chromatic collection, other pitch collections can be formed as subsets of the chromatic one. Note that octave equivalence induces a partition of the chromatic collection (which, in principle, extends indefinitely to the right and to the left) into 12 distinct pitch-classes. E.g.:"
   ]
  },
  {
   "cell_type": "code",
   "execution_count": null,
   "metadata": {},
   "outputs": [],
   "source": [
    "note.Note(\"F8\").pitch.pitchClass == note.Note(\"F4\").pitch.pitchClass"
   ]
  },
  {
   "cell_type": "markdown",
   "metadata": {},
   "source": [
    "The interval between two pitch classes is not well-defined: for example, if we consider pitch-classes C and G#, we can have the G# lying 8 semitones above the C..."
   ]
  },
  {
   "cell_type": "code",
   "execution_count": null,
   "metadata": {},
   "outputs": [],
   "source": [
    "C = note.Note('C4')\n",
    "highGis = note.Note('G#4')\n",
    "ChighGis = interval.Interval(noteStart = C, noteEnd = highGis)\n",
    "ChighGis.semitones"
   ]
  },
  {
   "cell_type": "markdown",
   "metadata": {},
   "source": [
    "or the one 4 semitones below the C:"
   ]
  },
  {
   "cell_type": "code",
   "execution_count": null,
   "metadata": {},
   "outputs": [],
   "source": [
    "lowGis = note.Note('G#3')\n",
    "lowGisC = interval.Interval(noteStart = lowGis, noteEnd = C)\n",
    "lowGisC.semitones"
   ]
  },
  {
   "cell_type": "markdown",
   "metadata": {},
   "source": [
    "We define instead the interval class between two pitch classes as the smallest interval between representatives of the two classes:"
   ]
  },
  {
   "cell_type": "code",
   "execution_count": null,
   "metadata": {},
   "outputs": [],
   "source": [
    "n1 = note.Note('C')\n",
    "n2 = note.Note('G#')\n",
    "n1n2 = interval.Interval(noteStart = n1, noteEnd = n2)\n",
    "n1n2.intervalClass"
   ]
  },
  {
   "cell_type": "markdown",
   "metadata": {},
   "source": [
    "Pitch-class sets are unordered collections of pitch classes. Each pitch class in a pitch-class set may be identified by a number from 0 to 11, 0 corresponding to the pitch class of a C. "
   ]
  },
  {
   "cell_type": "code",
   "execution_count": null,
   "metadata": {},
   "outputs": [],
   "source": [
    "pitchClassSet = {0, 3, 5}\n",
    "\n",
    "def notes_from_pitchClassSet(pitchClassSet, transpose = 0):\n",
    "    \"\"\"Returns list of notes based on a pitchClassSet and a transposition (default, start on C)\"\"\"\n",
    "    return [note.Note(pitch = pitchClass+transpose) for pitchClass in pitchClassSet]\n",
    "\n",
    "pitchClassSetNotes = notes_from_pitchClassSet(pitchClassSet)\n",
    "pitchClassSetNotes"
   ]
  },
  {
   "cell_type": "markdown",
   "metadata": {},
   "source": [
    "In order to characterize a pitch class set, we can look at the intervals formed by the members of the set. In particular, we consider all possible interval classes between any two members of the set. The interval vector of a pitch class is a 6-vector whose i-th component reflects how many interval classes of size i are to be found among all the possible pairings of elements of the set."
   ]
  },
  {
   "cell_type": "code",
   "execution_count": null,
   "metadata": {},
   "outputs": [],
   "source": [
    "def intervalVector(notes):\n",
    "    \"\"\"Compute the interval vector of a list of notes\"\"\"\n",
    "    vector = {i+1:0 for i in range(6)}\n",
    "    pairs = itertools.combinations(notes, 2)\n",
    "    for pair in pairs:\n",
    "        intClass = interval.Interval(pair[0], pair[1]).intervalClass\n",
    "        vector[intClass] += 1\n",
    "    return vector\n",
    "\n",
    "intervalVector(pitchClassSetNotes)"
   ]
  },
  {
   "cell_type": "markdown",
   "metadata": {},
   "source": [
    "Interval vectors capture an important aspect of the compositional possibilities that arise when adopting a certain pitch-class set as the pitch alphabet for a piece (or a portion thereof): they tell us what are the possible intervals that can be formed if those pitches are played one after the other (melodically) or simultaneously (harmonically).\n",
    "\n",
    "Algebraic properties of pitch-class sets, such as their invariances under transformations, are a fertile terrain for creative and algorithmic exploration. If you are interested, you can read more on musical set theory, e.g. starting from this simple introduction https://musictheory.pugetsound.edu/mt21c/SetTheory.html."
   ]
  },
  {
   "cell_type": "markdown",
   "metadata": {},
   "source": [
    "def scale_from_division(division, span,  root):\n",
    "    new_scale = [pitch.Pitch(root)] + [pitch.Pitch() for _ in division]\n",
    "    for i in range(len(division)):\n",
    "        new_scale[i+1].ps = root + division[i] * span\n",
    "    return new_scale"
   ]
  },
  {
   "cell_type": "markdown",
   "metadata": {},
   "source": [
    "golden = 2/(1 + 5 ** 0.5)\n",
    "golden_division = fractal_division(golden, 1/12)\n",
    "m = get_measure(scale_from_division(golden_division, 12, 60))\n",
    "play(m)"
   ]
  },
  {
   "cell_type": "code",
   "execution_count": null,
   "metadata": {},
   "outputs": [],
   "source": [
    "def select_from_chromatic(intervals, root = 'C'):\n",
    "    \"\"\"Selects pitches from a chromatic collection based on a set of intervals\"\"\"\n",
    "    return [note.Note(pitch = pitch.Pitch(root).midi + x) for x in [0]+[sum(intervals[:i+1]) for i in range(len(intervals))]]"
   ]
  },
  {
   "cell_type": "markdown",
   "metadata": {},
   "source": [
    "For example, a very commong scale in Western classical music is the major scale:"
   ]
  },
  {
   "cell_type": "code",
   "execution_count": null,
   "metadata": {},
   "outputs": [],
   "source": [
    "MAJOR = [2, 2, 1, 2, 2, 2, 1]\n",
    "m = stream.Measure()\n",
    "m.append(select_from_chromatic(MAJOR))\n",
    "play(m)\n",
    "m.show()"
   ]
  },
  {
   "cell_type": "markdown",
   "metadata": {},
   "source": [
    "Note that the intervals in a major scale are not all the same: between the third and the fourth note, as well as between the seventh and the eigth (which is equivalent to the first under octave equivalence) there is an interval of just 1 semitone. \n",
    "\n",
    "We can obtain other *modes* that are based on the same selection of itnervals by rotating the list of intervals, and changing the root."
   ]
  },
  {
   "cell_type": "code",
   "execution_count": null,
   "metadata": {},
   "outputs": [],
   "source": [
    "def rotate_list(l, n):\n",
    "    \"\"\"rotate list l by n steps\"\"\"\n",
    "    return l[n:] + l[:n]\n",
    "\n",
    "def select_mode(mode, root, scale = MAJOR):\n",
    "    \"\"\"select a mode based on a root\"\"\"\n",
    "    return select_from_chromatic(rotate_list(scale, mode), root)"
   ]
  },
  {
   "cell_type": "markdown",
   "metadata": {},
   "source": [
    "For example, here is the so-called \"phrygian\" mode, which shares all pitches with the major scale, but with a different ordering of intervals (starting from root E):"
   ]
  },
  {
   "cell_type": "code",
   "execution_count": null,
   "metadata": {},
   "outputs": [],
   "source": [
    "phrygian = select_mode(2, 'E')\n",
    "m = stream.Measure()\n",
    "m.append(phrygian)\n",
    "play(m)\n",
    "m.show()"
   ]
  },
  {
   "cell_type": "markdown",
   "metadata": {},
   "source": [
    "The chromatic subdivision of the octave in 12 semitones is particularly relevant in the Western classical tradition. However, different cultures draw their pitch materials from different scales, whose pitches do not correspond to any of the chromatic tones. Here are two examples from the Javanese tradition, the *pelog* and the *slendro* scale. Note that, while the *pelog* scale results in an unequal subdivision of the octave (similarly to the Western diatonic scale), the *slendro* scale divides the octave in roughly equal intervals. "
   ]
  },
  {
   "cell_type": "markdown",
   "metadata": {},
   "source": [
    "<img src=\"scales.png\">"
   ]
  },
  {
   "cell_type": "markdown",
   "metadata": {},
   "source": [
    "<video controls src=\"gamelan.mp4\" />"
   ]
  },
  {
   "cell_type": "markdown",
   "metadata": {},
   "source": [
    "# Dividing the octave"
   ]
  },
  {
   "cell_type": "markdown",
   "metadata": {},
   "source": [
    "Selecting pitch materials is part of the compositional process, and you can be creative in how to extract pitches from the continuum of pitch space! Here is an example of a scale generated by a fractal division of the octave with recursive golden-ratio splits;"
   ]
  },
  {
   "cell_type": "code",
   "execution_count": null,
   "metadata": {},
   "outputs": [],
   "source": [
    "def fractal_division(ratio, smallest, interval = 1, displace = 0):\n",
    "    \"\"\"Recursively divide an interval based on a given ratio, up to a threshold (smallest). Returns list of split points.\"\"\"\n",
    "    split = [interval * ratio, interval * (1-ratio)]\n",
    "    \n",
    "    if min(split) >= smallest:\n",
    "        \n",
    "        splits = []\n",
    "        \n",
    "        onset = displace\n",
    "        for i in split:\n",
    "            splits += fractal_division(ratio, smallest, interval = i, displace = onset)\n",
    "            onset += i\n",
    "        \n",
    "        return splits\n",
    "        \n",
    "    else:\n",
    "        return [interval+displace]"
   ]
  },
  {
   "cell_type": "code",
   "execution_count": null,
   "metadata": {},
   "outputs": [],
   "source": [
    "def scale_from_division(division, span,  root):\n",
    "    \"\"\"Returns scale (from root to span) from a list of split points\"\"\"\n",
    "    new_scale = [pitch.Pitch(root)] + [pitch.Pitch() for _ in division]\n",
    "    for i in range(len(division)):\n",
    "        new_scale[i+1].ps = root + division[i] * span\n",
    "    return new_scale"
   ]
  },
  {
   "cell_type": "code",
   "execution_count": null,
   "metadata": {},
   "outputs": [],
   "source": [
    "golden = 2/(1 + 5 ** 0.5)\n",
    "golden_division = fractal_division(golden, 1/12)\n",
    "m = get_measure(scale_from_division(golden_division, 12, 60))\n",
    "play(m)"
   ]
  },
  {
   "cell_type": "markdown",
   "metadata": {},
   "source": [
    "# Melody generation\n",
    "## Random"
   ]
  },
  {
   "cell_type": "code",
   "execution_count": null,
   "metadata": {},
   "outputs": [],
   "source": [
    "sc = scale.ConcreteScale(pitches=scale_from_division(golden_division, 12, 60))\n",
    "pitch_collection = sc.getPitches('C1', 'C5')\n",
    "print(f\"pitch_collection contains {len(pitch_collection)} pitches.\")"
   ]
  },
  {
   "cell_type": "code",
   "execution_count": null,
   "metadata": {},
   "outputs": [],
   "source": [
    "random_melody = random.choices(pitch_collection, k=20)\n",
    "get_measure(random_melody).show()"
   ]
  },
  {
   "cell_type": "code",
   "execution_count": null,
   "metadata": {},
   "outputs": [],
   "source": [
    "def random_duration():\n",
    "    \"\"\"Generator yielding infinitely many random fractions.\"\"\"\n",
    "    base = (1, 2, 3, 4, 5)\n",
    "    while True:\n",
    "        numerator, denominator = random.choices(base, k=2)\n",
    "        yield numerator/denominator\n",
    "    \n",
    "duration_generator = random_duration()\n",
    "next(duration_generator)"
   ]
  },
  {
   "cell_type": "code",
   "execution_count": null,
   "metadata": {},
   "outputs": [],
   "source": [
    "notes = [note.Note(pitch=p, quarterLength=d) for p, d in zip(random_melody, random_duration())]\n",
    "melody = get_stream(notes)\n",
    "melody.show()\n",
    "play(melody)"
   ]
  },
  {
   "cell_type": "markdown",
   "metadata": {},
   "source": [
    "## Recursive approach (based on the Grammar idea)"
   ]
  },
  {
   "cell_type": "code",
   "execution_count": null,
   "metadata": {},
   "outputs": [],
   "source": [
    "SCALE = scale.MinorScale('a')\n",
    "LARGE_SKIP = 9\n",
    "\n",
    "\n",
    "class pair:\n",
    "    \n",
    "    scale = SCALE\n",
    "    \n",
    "    def __init__(self, left, right=None):\n",
    "        if right is None:\n",
    "            right = left\n",
    "        self.l, self.r = left, right\n",
    "        self.apply_rule()\n",
    "        \n",
    "    def apply_rule(self):\n",
    "        if isinstance(self.l, pitch.Pitch):\n",
    "            if self.l == self.r:\n",
    "                self.large_skip()\n",
    "                \n",
    "    def large_skip(self):\n",
    "        middle = self.scale.next(self.l, stepSize=LARGE_SKIP)\n",
    "        self.l = skip(self.l, middle)\n",
    "        self.r = skip(middle, self.r)\n",
    "                \n",
    "    def pitches(self):\n",
    "        if isinstance(self.l, pitch.Pitch):\n",
    "            return [self.l, self.r]\n",
    "        else:\n",
    "            return self.l.pitches() + self.r.pitches()[1:]\n",
    "        \n",
    "    def __repr__(self):\n",
    "        return f\" [{self.l} {self.r}] \"\n",
    "        \n",
    "         \n",
    "class skip(pair):\n",
    "    \n",
    "    pass\n",
    "           \n",
    "p = pair(pitch.Pitch('A3'))\n",
    "p.pitches()"
   ]
  },
  {
   "cell_type": "code",
   "execution_count": null,
   "metadata": {},
   "outputs": [],
   "source": [
    "p"
   ]
  },
  {
   "cell_type": "code",
   "execution_count": null,
   "metadata": {},
   "outputs": [],
   "source": [
    "get_measure(p.pitches()).show()"
   ]
  },
  {
   "cell_type": "code",
   "execution_count": null,
   "metadata": {},
   "outputs": [],
   "source": [
    "def get_middle(scale, start, end):\n",
    "    pitches = scale.getPitches(start, end)\n",
    "    middle = len(pitches) // 2\n",
    "    return pitches[middle]\n",
    "\n",
    "class skip(pair):\n",
    "    \n",
    "    def apply_rule(self):\n",
    "        if isinstance(self.l, pitch.Pitch):\n",
    "            iv = interval.Interval(self.l, self.r)\n",
    "            if iv.direction == -1 and abs(iv.semitones) > 2: ## if descending and larger than a whole tone\n",
    "                self.split()\n",
    "                    \n",
    "    def split(self):\n",
    "        middle = get_middle(self.scale, self.l, self.r)\n",
    "        print(f\"{self.l} and {self.r} split by {middle}\")\n",
    "        self.l = skip(self.l, middle)\n",
    "        self.r = skip(middle, self.r)\n",
    "                \n",
    "   \n",
    "p = pair(pitch.Pitch('A3'))\n",
    "print(p)\n",
    "melody = get_measure(p.pitches())\n",
    "melody.show()\n",
    "play(melody)"
   ]
  },
  {
   "cell_type": "code",
   "execution_count": null,
   "metadata": {},
   "outputs": [],
   "source": [
    "class skip(pair):\n",
    "    \n",
    "    def apply_rule(self):\n",
    "        if isinstance(self.l, pitch.Pitch):\n",
    "            iv = interval.Interval(self.l, self.r)\n",
    "            if iv.direction == -1 and abs(iv.semitones) > 2:\n",
    "                coin_toss = random.random() >= 0.2  ## is True 80 % of the time\n",
    "                if coin_toss:\n",
    "                    self.split()\n",
    "                else:\n",
    "                    self.prepare()\n",
    "                    \n",
    "    def split(self):\n",
    "        middle = get_middle(self.scale, self.l, self.r)\n",
    "        print(f\"{self.l} and {self.r} split by {middle}\")\n",
    "        self.l = skip(self.l, middle)\n",
    "        self.r = skip(middle, self.r)\n",
    "        \n",
    "    def prepare(self):\n",
    "        leading_tone = self.r.transpose('-m2')\n",
    "        print(f\"{self.r} prepared by {leading_tone}\")\n",
    "        self.l = pair(self.l, leading_tone)\n",
    "        self.r = pair(leading_tone, self.r)\n",
    "                \n",
    "   \n",
    "p = pair(pitch.Pitch('A3'))\n",
    "print(p)\n",
    "melody = get_measure(p.pitches())\n",
    "melody.show()\n",
    "play(melody)"
   ]
  },
  {
   "cell_type": "code",
   "execution_count": null,
   "metadata": {},
   "outputs": [],
   "source": [
    "LOG = False\n",
    "SPLIT_LARGER_THAN = 6\n",
    "#SCALE_TYPE = scale.WholeToneScale\n",
    "#SCALE_TYPE = scale.ChromaticScale\n",
    "SCALE_TYPE = scale.OctatonicScale\n",
    "\n",
    "def fill_iv(zig, zag):\n",
    "    \"\"\" Takes two pitches and fills the interval between them with notes from\n",
    "        two different scales, depending on the interval's direction.\n",
    "    \"\"\"\n",
    "    if zig == zag:\n",
    "        return [zig]\n",
    "    direction2scale = {\n",
    "        1: SCALE_TYPE('C'),\n",
    "        -1: SCALE_TYPE('C#')\n",
    "    }\n",
    "    iv = interval.Interval(zig, zag)\n",
    "    sc = direction2scale[iv.direction]\n",
    "    return sc.getPitches(zig, zag)\n",
    "\n",
    "\n",
    "def split_iv(zig, zag):\n",
    "    \"\"\" Takes two pitches, calls fill_iv() and returns 3 randomly selected split points\n",
    "        for creating two spike starting from the middle one.\n",
    "    \"\"\"\n",
    "    pitches = fill_iv(zig, zag)\n",
    "    n = len(pitches)\n",
    "    splitpoint = random.randint(1, n-2)\n",
    "    splits = {\n",
    "        0: splitpoint,\n",
    "        1: random.randint(0, splitpoint),\n",
    "        2: random.randint(splitpoint, n-1)\n",
    "    }\n",
    "    return [pitches[splits[i]] for i in range(3)]\n",
    "\n",
    "\n",
    "class zigzag:\n",
    "    \n",
    "    def __init__(self, zig, zag, comeback=True):\n",
    "        self.zig, self.zag = zig, zag\n",
    "        self.comeback = comeback\n",
    "        self.iv = interval.Interval(zig, zag)\n",
    "        self.zigzags = None                    ## by convention, all properties are declared in the __init__ function,\n",
    "        self.pitches = None                    ## even if they are used only later\n",
    "        self.apply_rule()\n",
    "        \n",
    "    def apply_rule(self):\n",
    "        if abs(self.iv.semitones) > SPLIT_LARGER_THAN:\n",
    "            self.split()\n",
    "        else:\n",
    "            self.fill()\n",
    "                \n",
    "    def split(self):\n",
    "        splitpoint, spike1, spike2 = split_iv(self.zig, self.zag)\n",
    "        if LOG:\n",
    "            print(f\"{self.zig} {self.zag} -> {self.zig} - {splitpoint} - {spike1} - {splitpoint} - {spike2} - {splitpoint} - {self.zag}\")\n",
    "        self.zigzags = {\n",
    "            0: zigzag(self.zig, splitpoint, comeback=False),\n",
    "            1: zigzag(splitpoint, spike1),\n",
    "            2: zigzag(splitpoint, spike2),\n",
    "            3: zigzag(splitpoint, self.zag, comeback=False)\n",
    "        }\n",
    "        splitpoint, spike1, spike2 = split_iv(self.zag, self.zig)\n",
    "        if LOG:\n",
    "            print(f\"{self.zag} {self.zig} -> {self.zag} - {splitpoint} - {spike1} - {splitpoint} - {spike2} - {splitpoint} - {self.zig}\")\n",
    "        self.zigzags.update({\n",
    "            4: zigzag(self.zag, splitpoint, comeback=False),\n",
    "            5: zigzag(splitpoint, spike1),\n",
    "            6: zigzag(splitpoint, spike2),\n",
    "            7: zigzag(splitpoint, self.zig, comeback=False)\n",
    "        })\n",
    "        \n",
    "    def fill(self):\n",
    "        if LOG:\n",
    "            print(f\"Filled {self.zig}-{self.zag}{' coming back' if self.comeback else ''}\")\n",
    "        self.pitches = fill_iv(self.zig, self.zag)\n",
    "        if self.comeback:\n",
    "            self.pitches += fill_iv(self.zag, self.zig)[1:]\n",
    "                    \n",
    "    def get(self):\n",
    "        if self.pitches is None:\n",
    "            return [pitch for pitches in (zz.get() for zz in self.zigzags.values()) for pitch in pitches[:-1]] + [self.zig]\n",
    "        else:\n",
    "            return self.pitches\n",
    "        \n",
    "    def __repr__(self):\n",
    "        return f\"zig: {self.zig}, zag: {self.zag}\"\n",
    "        \n",
    "         \n",
    "p1 = pitch.Pitch('G#3')\n",
    "p2 = pitch.Pitch('C5')\n",
    "zz = zigzag(p1, p2)\n",
    "melody = get_measure(zz.get(), 1/8)\n",
    "piano_roll = graph.plot.HorizontalBarPitchSpaceOffset(melody)\n",
    "piano_roll.figureSize = (35,12)\n",
    "piano_roll.run()\n",
    "melody.plot('histogram', 'pitchClass')"
   ]
  },
  {
   "cell_type": "code",
   "execution_count": null,
   "metadata": {},
   "outputs": [],
   "source": [
    "play(melody)"
   ]
  },
  {
   "cell_type": "markdown",
   "metadata": {},
   "source": [
    "# Polyphony"
   ]
  },
  {
   "cell_type": "markdown",
   "metadata": {},
   "source": [
    "Up to this point, we have generated individual melodies. In a piece of music, melodies may interact with one another, for example by playing simultaneously. This results in polyphony. \n",
    "\n",
    "As a simple example, we can build canons by shifting a melody against itself. The parameters of the canon are the delay of the *comes*, i.e. how much later compared to the *dux* it starts, and its transposition w.r.t. the *dux*."
   ]
  },
  {
   "cell_type": "code",
   "execution_count": null,
   "metadata": {},
   "outputs": [],
   "source": [
    "def canon_from_theme(theme, delay, transposition):\n",
    "    \"Generates a canon based on a theme, after setting the delay and the transposition of the comes\"\n",
    "    \n",
    "    dux = stream.Part() #set dux part\n",
    "    comes = stream.Part() #set comes part\n",
    "\n",
    "    dux.append(theme.flat.notesAndRests) #asign notes and rests from the theme to the dux\n",
    "    \n",
    "    #transposed theme for the comes\n",
    "    transposed_theme = [x.transpose(interval.ChromaticInterval(transposition)) for x in theme.flat.notes]\n",
    "    \n",
    "    #append transposed theme to the comes, after a rest of duration delay\n",
    "    comes.append([note.Rest(quarterLength = delay)]+transposed_theme)\n",
    "\n",
    "    #set the score for the canon\n",
    "    canon = stream.Score()\n",
    "    canon.append(comes) #populate the score with the comes\n",
    "    canon.append(dux) #populate the score with the dux\n",
    "    \n",
    "    #assign different instruments to the two parts, to make them more distinguishable\n",
    "    canon[0].insert(0, instrument.Violin())  \n",
    "    canon[1].insert(0, instrument.Violoncello())\n",
    "    \n",
    "\n",
    "    return canon"
   ]
  },
  {
   "cell_type": "markdown",
   "metadata": {},
   "source": [
    "If we use the full chromatic collection as our theme, the canon will sound for example like this:"
   ]
  },
  {
   "cell_type": "code",
   "execution_count": null,
   "metadata": {},
   "outputs": [],
   "source": [
    "chromatic = stream.Stream()\n",
    "chromatic.append([note.Note(pitch = x) for x in CHROMATIC])\n",
    "chromatic_canon = canon_from_theme(chromatic, 1, 0)\n",
    "chromatic_canon.show()\n",
    "play(chromatic_canon)"
   ]
  },
  {
   "cell_type": "markdown",
   "metadata": {},
   "source": [
    "Since we have different notes playing simultaneously, they form intervals with one another."
   ]
  },
  {
   "cell_type": "code",
   "execution_count": null,
   "metadata": {},
   "outputs": [],
   "source": [
    "def get_simultaneity(score, offset):\n",
    "    \"\"\"Returns the list of simultaneous notes at a given offset\"\"\"\n",
    "    notes = []\n",
    "    for part in score.parts:\n",
    "        notes += list(part.flat.getElementsByOffset(offset).notes)\n",
    "    \n",
    "    return notes \n",
    "\n",
    "def get_simultaneity_interval(score, offset):\n",
    "    \"\"\"returns the interval between simultaneous notes\"\"\"\n",
    "    simultaneity = get_simultaneity(score, offset)\n",
    "    return abs(interval.Interval(noteStart = simultaneity[0], noteEnd = simultaneity[1]).semitones)%12\n",
    "\n",
    "    \n",
    "def interval_histogram(score):\n",
    "    \"\"\"Counts the intervals formed between simultaneous notes across the score\"\"\"\n",
    "    harmonic_intervals = []\n",
    "    for offset in set([x.offset for x in score.flat.elements]):\n",
    "        simultaneity = get_simultaneity(score, offset)\n",
    "        if len(simultaneity)>1:\n",
    "            harmonic_intervals += [get_simultaneity_interval(score, offset)]\n",
    "    harmonic_intervals.sort()        \n",
    "    return(Counter(harmonic_intervals))"
   ]
  },
  {
   "cell_type": "code",
   "execution_count": null,
   "metadata": {},
   "outputs": [],
   "source": [
    "interval_histogram(chromatic_canon)"
   ]
  },
  {
   "cell_type": "markdown",
   "metadata": {},
   "source": [
    "Since the theme only comprises one type of (horizontal) interval, the semitone, also the vertical intervals that are formed between simultaneous notes in the *dux* and the *comes* are all equal. We can change the interval by choosing a different delay or transposition for the comes, but it will always be only one interval. If we choose a more varied theme, we also get more varied simultaneities:"
   ]
  },
  {
   "cell_type": "code",
   "execution_count": null,
   "metadata": {},
   "outputs": [],
   "source": [
    "subject = converter.parse('frere_jacques.mid')\n",
    "canon3 = canon_from_theme(subject, 3, 9)\n",
    "canon3.show()"
   ]
  },
  {
   "cell_type": "code",
   "execution_count": null,
   "metadata": {},
   "outputs": [],
   "source": [
    "play(canon3)"
   ]
  },
  {
   "cell_type": "code",
   "execution_count": null,
   "metadata": {},
   "outputs": [],
   "source": [
    "interval_histogram(canon3)"
   ]
  },
  {
   "cell_type": "markdown",
   "metadata": {},
   "source": [
    "Note how many different intervals are formed between simultaneous notes. In particular, there are many dissonant ones (1, 2, 10, or 11 semitones). If we choose a different delay and transposition, we can change the intervals that are formed, as well as the overall sonority:"
   ]
  },
  {
   "cell_type": "code",
   "execution_count": null,
   "metadata": {},
   "outputs": [],
   "source": [
    "canon8 = canon_from_theme(subject, 8, 12)\n",
    "canon8.show()"
   ]
  },
  {
   "cell_type": "code",
   "execution_count": null,
   "metadata": {},
   "outputs": [],
   "source": [
    "play(canon8)"
   ]
  },
  {
   "cell_type": "code",
   "execution_count": null,
   "metadata": {},
   "outputs": [],
   "source": [
    "interval_histogram(canon8)"
   ]
  }
 ],
 "metadata": {
  "kernelspec": {
   "display_name": "Python 3",
   "language": "python",
   "name": "python3"
  },
  "language_info": {
   "codemirror_mode": {
    "name": "ipython",
    "version": 3
   },
   "file_extension": ".py",
   "mimetype": "text/x-python",
   "name": "python",
   "nbconvert_exporter": "python",
   "pygments_lexer": "ipython3",
   "version": "3.8.5"
  }
 },
 "nbformat": 4,
 "nbformat_minor": 4
}
