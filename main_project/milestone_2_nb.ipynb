{
 "cells": [
  {
   "cell_type": "markdown",
   "metadata": {
    "collapsed": true,
    "pycharm": {
     "name": "#%% md\n"
    }
   },
   "source": [
    "# Group 12 - HUM-274: Milestone 2"
   ]
  },
  {
   "cell_type": "code",
   "execution_count": 28,
   "metadata": {
    "pycharm": {
     "name": "#%%\n"
    }
   },
   "outputs": [],
   "source": [
    "from math import fabs\n",
    "from music21 import midi, note, stream, instrument, meter, duration"
   ]
  },
  {
   "cell_type": "markdown",
   "metadata": {},
   "source": [
    "### 4) Adding complexity back\n",
    "\n",
    "The previous part sees the deconstruction of the piece down to urban noises. This part stalls a little bit in this realm\n",
    "of noise by injecting some rhythmic complexity first through a carefully chosen L-System, which we will reuse later.\n",
    "\n",
    "Indeed, the L-System abstraction is really powerful as you can easily construct complex phenomena with varying effects.\n",
    "First, here's our general purpose L-System implementation:"
   ]
  },
  {
   "cell_type": "code",
   "execution_count": 29,
   "metadata": {
    "pycharm": {
     "name": "#%%\n"
    }
   },
   "outputs": [],
   "source": [
    "class Rule:\n",
    "    \"\"\"\n",
    "    Encodes L Systems' replacement rules.\n",
    "    \"\"\"\n",
    "\n",
    "    def __init__(self, base: str, replacement: str):\n",
    "        \"\"\"\n",
    "        :param base: string,\n",
    "        :param replacement: string\n",
    "        \"\"\"\n",
    "        self.base = base\n",
    "        self.replacement = replacement\n",
    "\n",
    "\n",
    "class LSystem:\n",
    "    \"\"\"\n",
    "    L System's functionality.\n",
    "    \"\"\"\n",
    "\n",
    "    def __init__(self, *rules):\n",
    "        \"\"\"\n",
    "        An L System = a set of rules\n",
    "\n",
    "        :param rules: List[Rule]\n",
    "        \"\"\"\n",
    "        self.rules = {}\n",
    "        [self.rules.update({rule.base: rule.replacement}) for rule in rules]\n",
    "\n",
    "    def replace(self, base, show_mode: bool = False):\n",
    "        \"\"\"\n",
    "        The brains of an L System, doing the simple task of applying each rule recursively\n",
    "\n",
    "        :param base: some base string\n",
    "        :param show_mode: boolean deciding whether to put separating brackets or not between rule applications\n",
    "        :return: result of applications of all replacement rules on base string\n",
    "        \"\"\"\n",
    "        new_string = \"\"\n",
    "        for c in base:\n",
    "            if c in self.rules:\n",
    "                if show_mode:\n",
    "                    new_string += \"<\"\n",
    "                new_string += self.rules.get(c)\n",
    "                if show_mode:\n",
    "                    new_string += \">\"\n",
    "            else:\n",
    "                new_string += c\n",
    "        return new_string\n",
    "\n",
    "    def run(self, initial: str, nb_iterations: int, show_mode: bool = False):\n",
    "        \"\"\"\n",
    "        Applies the replace method nb_iterations times with base string initial\n",
    "\n",
    "        :param initial: first base string\n",
    "        :param nb_iterations: how many times rules replacements should occur\n",
    "        :param show_mode: boolean deciding whether to put separating brackets or not between rule applications\n",
    "        :return: last result of rule applications\n",
    "        \"\"\"\n",
    "        string = initial\n",
    "        for i in range(nb_iterations):\n",
    "            string = self.replace(string, show_mode)\n",
    "        return string"
   ]
  },
  {
   "cell_type": "markdown",
   "metadata": {
    "pycharm": {
     "name": "#%% md\n"
    }
   },
   "source": [
    "This abstraction produces strings which are consequently mapped to musical elements. This is where a human can have\n",
    "control over the L-System. See, for example, this function mapping L-System sequences to durations."
   ]
  },
  {
   "cell_type": "code",
   "execution_count": 30,
   "metadata": {
    "pycharm": {
     "name": "#%%\n"
    }
   },
   "outputs": [],
   "source": [
    "def sequence_from_string_complex(string: str):\n",
    "    \"\"\"\n",
    "    To use with chars: A, B, C, D, E, F, +, -, [, ]\n",
    "    A: half note\n",
    "    B: quarter\n",
    "    C: eighth\n",
    "    D: sixteenth\n",
    "    E: triplet\n",
    "    F: quintuplet\n",
    "    +: add previous and next duration\n",
    "    -: make previous note a rest (value: -1 * duration of rest)\n",
    "    [: extend previous duration by 50%\n",
    "    ]: divide previous duration by 2\n",
    "    :param string: input string\n",
    "    :return: sequence of durations (floats)\n",
    "    \"\"\"\n",
    "\n",
    "    def char_to_duration(c: str, tb: list):\n",
    "        if c == 'A':\n",
    "            tb.append(2)\n",
    "        elif c == 'B':\n",
    "            tb.append(1)\n",
    "        elif c == 'C':\n",
    "            tb.append(1 / 2)\n",
    "        elif c == 'D':\n",
    "            tb.append(1 / 4)\n",
    "        elif c == 'E':\n",
    "            tb.append(1 / 3)\n",
    "        elif c == 'F':\n",
    "            tb.append(1 / 5)\n",
    "        elif c == '[':\n",
    "            if len(tb) > 0:\n",
    "                tb[-1] = tb[-1] + 0.5 * tb[-1]\n",
    "        elif c == ']':\n",
    "            if len(tb) > 0:\n",
    "                if tb[-1] > float(1.0 / 1024):\n",
    "                    tb[-1] = tb[-1] / 2\n",
    "        elif c == '-':\n",
    "            if len(tb) > 0:\n",
    "                tb[-1] = -tb[-1]\n",
    "        return tb[-1]\n",
    "\n",
    "    def is_duration_char(c: str):\n",
    "        return c in ['A', 'B', 'C', 'D', 'E', 'F']\n",
    "\n",
    "    str_arr = [c for c in string]\n",
    "    tab = []\n",
    "    while not len(str_arr) == 0:\n",
    "        nb_chars_read = 1\n",
    "\n",
    "        if str_arr[0] == '+' and len(str_arr) >= 2:\n",
    "            nb_chars_read = 2\n",
    "            if len(tab) > 0 and is_duration_char(str_arr[1]):\n",
    "                old_read = tab[-1]\n",
    "                new_read = char_to_duration(str_arr[1], tab)\n",
    "                new_dur = fabs(old_read) + fabs(new_read)\n",
    "                if old_read < 0:\n",
    "                    new_dur = -new_dur\n",
    "                tab[-2] = new_dur\n",
    "                tab = tab[:-1]\n",
    "\n",
    "        else:\n",
    "            char_to_duration(str_arr[0], tab)\n",
    "\n",
    "        str_arr = str_arr[nb_chars_read:]  # remove chars read\n",
    "    return tab"
   ]
  },
  {
   "cell_type": "markdown",
   "metadata": {},
   "source": [
    "As we only care, in this section, about rhythmic quantities, we'll go ahead and use the helper functions given in the\n",
    "second notebook of the course:"
   ]
  },
  {
   "cell_type": "code",
   "execution_count": 61,
   "metadata": {
    "pycharm": {
     "name": "#%%\n"
    }
   },
   "outputs": [],
   "source": [
    "def translate(int_note, dur):\n",
    "    \"\"\"\n",
    "    Given an integer value of a note, get a corresponding music21.note object\n",
    "    :param int_note: integer value of the note\n",
    "    :param dur: duration of desired note - if negative, interpret as rest\n",
    "    :return music21.note\n",
    "    \"\"\"\n",
    "    first_char_arr = [\"C\", \"C#\", \"D\", \"D#\", \"E\", \"F\", \"F#\", \"G\", \"G#\", \"A\", \"A#\", \"B\"]\n",
    "    pitch = first_char_arr[int_note % 12] + str(int(2 + int_note / 12))\n",
    "\n",
    "    if dur < 0:\n",
    "        return note.Rest(duration=duration.Duration(quarterLength=-dur))\n",
    "    return note.Note(pitch, duration=duration.Duration(quarterLength=dur))\n",
    "\n",
    "\n",
    "def combine_voices(length: int, rhythm, *voices, inst=None, time_sig='4/4'):\n",
    "    \"\"\"\n",
    "    :param time_sig: well..\n",
    "    :param inst: list of used instruments\n",
    "    :param length: common length of voices to consider\n",
    "    :param rhythm: rhythmic line: sequence of durations\n",
    "    :param voices: sequences of integers encoding notes\n",
    "    :return stream of chords\n",
    "    \"\"\"\n",
    "\n",
    "    if inst is None:\n",
    "        inst = [instrument.Piano()]\n",
    "    voices = voices[0]\n",
    "    score = stream.Score()\n",
    "    score.timeSignature = meter.TimeSignature(time_sig)\n",
    "\n",
    "    parts = [stream.Part() for _ in range(len(voices))]\n",
    "    for part_index in range(len(voices)):\n",
    "        parts[part_index].timeSignature = meter.TimeSignature(time_sig)\n",
    "        for i in range(length):\n",
    "            parts[part_index].append(translate(voices[part_index][i], rhythm[i]))\n",
    "\n",
    "    for i in range(len(parts)):\n",
    "        parts[i].insert(0, inst[i])\n",
    "        score.insert(0, parts[i])\n",
    "\n",
    "    return score\n",
    "\n",
    "\n",
    "def play(score):\n",
    "    # Shortcut to play a stream\n",
    "    midi.realtime.StreamPlayer(score).play()\n"
   ]
  },
  {
   "cell_type": "markdown",
   "metadata": {},
   "source": [
    "Last but not least, let's put the pieces together! Let's define some rules and see what comes out."
   ]
  },
  {
   "cell_type": "code",
   "execution_count": 62,
   "metadata": {
    "pycharm": {
     "name": "#%%\n"
    }
   },
   "outputs": [
    {
     "name": "stdout",
     "output_type": "stream",
     "text": [
      "51 notes kept\n",
      "[1, 1, 2, 2, 2, 2, -1, 2, 1, 1, 1, 1, 2, 2, 2, 1, 2, 2, 1, 1, 2, 2, 2, 1, 2, 2, 1, 1, 2, 2, 2, 1, 2, 2, 1, 1, 2, 2, 2, 1, 2, 2, 2, 2, 2, 2, 1, 1, 1, 1, 2, 2, 2, 1, 2, -1, 2, 1, 1, 1, 1, 2, 2, 1, 1, 2, 2, 2, 2, -1, 2, 1, 1, 1, 1, 2, 2, 2, 1, 2, 2, 1, 1, 2, 2, 2, 1, 2, 2, 1, 1, 2, 2, 2, 1, 2, 2, 1, 1, 2, 2, 2, 1, 2, 2, 1, 1, 2, 2, 2, 2, -1, 2, 1, 1, 2, 2, -1, 2, 1, 1, 2, 2, 2, 1, 2, 1, 1, 2, 2, 2, 1, 2, 1, 1, 2, 2, 2, 1, 2, 1, 1, 2, 2, 2, 1, 2, 2, 2, 2, 1, 1, 1, 1, 2, 2, 2, 1, 2, -1, 2, 1, 1, 1, 1, 1, 1, 2, 2, 2, 2, -1, 2, 1, 1, 1, 1, 2, 2, 2, 2, -1, 2, 1, 1, 2, 2, 1, 1, 2, 2, 2, 1, 2, 2, 1, 1, 2, 2, 2, 1, 2, 2, 2, 2, 1, 1, 2, 2, 2, 1, 2, 2, 1, 1, 2, 2, 2, 1, 2, 2, -1, 2, 1, 1, 2, 2, 2, 1, 2, 1, 1, 2, 2, 2, 1, 2, 1, 1, 2, 2, 2, 1, 2, 1, 1, 2, 2, 2, 1, 2, 2, 2, 2, 1, 1, 2, 2, 2, 1, 2, 2, 2, 1, 1, -1, 2, 1, 1, 2, 2, 2, 1, 2, 1, 1, 2, 2, 2, 1, 2, 1, 1, 2, 2, 2, 1, 2, 1, 1, 2, 2, 2, 1, 2, 2, 2, 2, 1, 1, 2, 2, 2, 1, 2, 2, 2, 1, 1]\n"
     ]
    }
   ],
   "source": [
    "def rules_complex():\n",
    "    rule_a = Rule(\"A\", \"BB[F+E-D+A]FF\")\n",
    "    rule_b = Rule(\"B\", \"D[E]-C\"\"D[E]-C\")\n",
    "    rule_c = Rule(\"C\", \"CD+C-CF-\")\n",
    "    rule_d = Rule(\"D\", \"AE+[D-D]D+ED\")\n",
    "    rule_e = Rule(\"E\", \"[E+-]B\")\n",
    "    rule_f = Rule(\"F\", \"F+[-B]B[[A]EF]\")\n",
    "    return LSystem(rule_a, rule_b, rule_c, rule_d, rule_e, rule_f)\n",
    "\n",
    "\n",
    "def initial_complex():\n",
    "    return \"F]AEE-B\"\n",
    "\n",
    "\n",
    "def run_complex_for(n, show_mode=False):\n",
    "    return rules_complex().run(initial_complex(), n, show_mode)\n",
    "\n",
    "\n",
    "rhythm = sequence_from_string_complex(run_complex_for(4))\n",
    "length = int(len(rhythm) / 60)\n",
    "print(f\"{length} notes kept\")\n",
    "score = combine_voices(length, rhythm, [[7 for i in range(length)]], inst=None, time_sig=\"3/4\")\n",
    "\n",
    "##play(score)"
   ]
  },
  {
   "cell_type": "code",
   "execution_count": 63,
   "metadata": {
    "pycharm": {
     "name": "#%%\n"
    }
   },
   "outputs": [
    {
     "data": {
      "image/png": "[encoded data removed]",
      "text/plain": [
       "<IPython.core.display.Image object>"
      ]
     },
     "metadata": {
      "image/png": {
       "height": 325,
       "width": 708
      }
     },
     "output_type": "display_data"
    }
   ],
   "source": [
    "score.show()"
   ]
  },
  {
   "cell_type": "markdown",
   "metadata": {
    "pycharm": {
     "name": "#%% md\n"
    }
   },
   "source": [
    "JUSTIFY WHY SUCH ERRATIC BEHAVIOUR\n",
    "\n",
    "And thus a rhythmically erratic\n",
    "Our next task is to add melodic values to these durations."
   ]
  },
  {
   "cell_type": "markdown",
   "metadata": {},
   "source": [
    "### 5) Convergence after chaos\n",
    "The second to last step of the composition sees a reconvergence to the main theme. Rhythm and melody converge separately\n",
    "to a theme resembling that of the *Boléro*.\n",
    "\n",
    "Let's start with rhythm. We need to find an appropriate L-System and a string to durations function. In the previous\n",
    "section, the artistic choice of complex chaos made it simple to come up with a berzerk L-System that generates\n",
    "random-sounding notes. The goal is reversed this time: *Boléro*'s main theme is very simple and very repetitive."
   ]
  },
  {
   "cell_type": "code",
   "execution_count": 64,
   "metadata": {
    "pycharm": {
     "name": "#%%\n"
    }
   },
   "outputs": [],
   "source": [
    "def rules_bolero():\n",
    "    \"\"\"\n",
    "    Converge to the Bolero snare drum part: A B A C\n",
    "    where A = the common first half of the two measures \n",
    "              (one eighth note + 3 sixteenths)\n",
    "          B = A + 2 eighth notes, the second half of the \n",
    "              first measure\n",
    "          C = A + 6 sixteenth notes, the second half of the\n",
    "              second measure\n",
    "    \"\"\"\n",
    "    return LSystem(\n",
    "        Rule(\"A\", \"ESSS\"),\n",
    "        Rule(\"B\", \"ESSSEE\"),\n",
    "        Rule(\"C\", \"ESSSSSSSSSZ\"),\n",
    "        Rule(\"E\", \"E\"),\n",
    "        Rule(\"S\", \"S\"),\n",
    "        Rule(\"T\", \"S\"),\n",
    "        Rule(\"W\", \"STSTSTTSSE\"),\n",
    "        Rule(\"X\", \"WYTTAYYESSYZ\"),\n",
    "        Rule(\"Y\", \"BATTWBWTTTTSTTA\"),\n",
    "        Rule(\"Z\", \"ABAC\")\n",
    "    )\n",
    "\n",
    "\n",
    "def initial_bolero():\n",
    "    return \"YWWX\"\n",
    "\n",
    "\n",
    "def run_bolero_for(n, show_mode=False):\n",
    "    return rules_bolero().run(initial_bolero(), n, show_mode)\n",
    "\n",
    "\n",
    "def sequence_from_string_bolero(string: str):\n",
    "    \"\"\"\n",
    "    To use with chars in chars_bolero\n",
    "    Notes with rhythmical values:\n",
    "\n",
    "    E: eight note\n",
    "    S: sixteenth note\n",
    "    T: 32nd note\n",
    "\n",
    "    A: triplet\n",
    "    B: two triplets\n",
    "    C: dotted eight note\n",
    "\n",
    "    W: quarter note rest\n",
    "    X: quintuplet\n",
    "    Y: two quintuplets\n",
    "    Z: eight note rest\n",
    "\n",
    "    :param string: input string\n",
    "    :return: sequence of durations (floats)\n",
    "    \"\"\"\n",
    "    note_durations = {\n",
    "        \"E\": 1 / 2,\n",
    "        \"S\": 1 / 4,\n",
    "        \"T\": 1 / 8,\n",
    "\n",
    "        \"A\": 1/3,\n",
    "        \"B\": 2/3,\n",
    "        \"C\": 3/4,\n",
    "\n",
    "        \"W\": -1/4,\n",
    "        \"X\": 1/5,\n",
    "        \"Y\": 2/5,\n",
    "        \"Z\": -1/2\n",
    "    }\n",
    "\n",
    "    return [note_durations.get(c) for c in string]"
   ]
  },
  {
   "cell_type": "markdown",
   "metadata": {
    "pycharm": {
     "name": "#%% md\n"
    }
   },
   "source": [
    "Let's see what this sequence looks like and confirms that it actually converges to *Boléro*'s snare drum part:"
   ]
  },
  {
   "cell_type": "code",
   "execution_count": 65,
   "metadata": {
    "pycharm": {
     "name": "#%%\n"
    }
   },
   "outputs": [
    {
     "name": "stdout",
     "output_type": "stream",
     "text": [
      "beginning of the sequence: <<<E><S><S><S><E><E>><<E><S><S><S>><<S>><<S>><<S><S><S><S><S\n",
      "end of the sequence: S><S><S><S><S><S><ESSS>><<ESSS><ESSSEE><ESSS><ESSSSSSSSSZ>>>\n"
     ]
    }
   ],
   "source": [
    "bolero_rhythm = run_bolero_for(3, True)\n",
    "print(f\"beginning of the sequence: {bolero_rhythm[:60]}\")\n",
    "print(f\"end of the sequence: {bolero_rhythm[-60:]}\")"
   ]
  },
  {
   "cell_type": "markdown",
   "metadata": {
    "pycharm": {
     "name": "#%% md\n"
    }
   },
   "source": [
    "Now let's see and hear what it sounds like!"
   ]
  },
  {
   "cell_type": "code",
   "execution_count": 66,
   "metadata": {
    "pycharm": {
     "name": "#%%\n"
    }
   },
   "outputs": [
    {
     "name": "stdout",
     "output_type": "stream",
     "text": [
      "[None, None, None, None, None, None, None, None, None, None, None, None, None, None, None, None, None, None, None, None, None, None, None, None, None, None, None, None, None]\n"
     ]
    },
    {
     "ename": "TypeError",
     "evalue": "'<' not supported between instances of 'NoneType' and 'int'",
     "output_type": "error",
     "traceback": [
      "\u001B[1;31m---------------------------------------------------------------------------\u001B[0m",
      "\u001B[1;31mTypeError\u001B[0m                                 Traceback (most recent call last)",
      "\u001B[1;32m<ipython-input-66-206253bd2efe>\u001B[0m in \u001B[0;36m<module>\u001B[1;34m\u001B[0m\n\u001B[0;32m      1\u001B[0m \u001B[0mbolero_rhythm\u001B[0m \u001B[1;33m=\u001B[0m \u001B[0msequence_from_string_bolero\u001B[0m\u001B[1;33m(\u001B[0m\u001B[0mrun_bolero_for\u001B[0m\u001B[1;33m(\u001B[0m\u001B[1;36m2\u001B[0m\u001B[1;33m,\u001B[0m \u001B[1;32mFalse\u001B[0m\u001B[1;33m)\u001B[0m\u001B[1;33m)\u001B[0m\u001B[1;33m\u001B[0m\u001B[1;33m\u001B[0m\u001B[0m\n\u001B[0;32m      2\u001B[0m \u001B[0mlength\u001B[0m \u001B[1;33m=\u001B[0m \u001B[0mint\u001B[0m\u001B[1;33m(\u001B[0m\u001B[0mlen\u001B[0m\u001B[1;33m(\u001B[0m\u001B[0mbolero_rhythm\u001B[0m\u001B[1;33m)\u001B[0m\u001B[1;33m)\u001B[0m\u001B[1;33m\u001B[0m\u001B[1;33m\u001B[0m\u001B[0m\n\u001B[1;32m----> 3\u001B[1;33m \u001B[0mbolero_score\u001B[0m \u001B[1;33m=\u001B[0m \u001B[0mcombine_voices\u001B[0m\u001B[1;33m(\u001B[0m\u001B[0mlength\u001B[0m\u001B[1;33m,\u001B[0m \u001B[0mbolero_rhythm\u001B[0m\u001B[1;33m,\u001B[0m \u001B[1;33m[\u001B[0m\u001B[1;33m[\u001B[0m\u001B[1;36m3\u001B[0m \u001B[1;32mfor\u001B[0m \u001B[0mi\u001B[0m \u001B[1;32min\u001B[0m \u001B[0mrange\u001B[0m\u001B[1;33m(\u001B[0m\u001B[0mlength\u001B[0m\u001B[1;33m)\u001B[0m\u001B[1;33m]\u001B[0m\u001B[1;33m]\u001B[0m\u001B[1;33m,\u001B[0m \u001B[0minst\u001B[0m\u001B[1;33m=\u001B[0m\u001B[1;33m[\u001B[0m\u001B[0minstrument\u001B[0m\u001B[1;33m.\u001B[0m\u001B[0mSnareDrum\u001B[0m\u001B[1;33m(\u001B[0m\u001B[1;33m)\u001B[0m\u001B[1;33m]\u001B[0m\u001B[1;33m,\u001B[0m \u001B[0mtime_sig\u001B[0m\u001B[1;33m=\u001B[0m\u001B[1;34m\"3/4\"\u001B[0m\u001B[1;33m)\u001B[0m\u001B[1;33m\u001B[0m\u001B[1;33m\u001B[0m\u001B[0m\n\u001B[0m\u001B[0;32m      4\u001B[0m \u001B[0mplay\u001B[0m\u001B[1;33m(\u001B[0m\u001B[0mbolero_score\u001B[0m\u001B[1;33m)\u001B[0m\u001B[1;33m\u001B[0m\u001B[1;33m\u001B[0m\u001B[0m\n",
      "\u001B[1;32m<ipython-input-61-c68702340100>\u001B[0m in \u001B[0;36mcombine_voices\u001B[1;34m(length, rhythm, inst, time_sig, *voices)\u001B[0m\n\u001B[0;32m     35\u001B[0m         \u001B[0mparts\u001B[0m\u001B[1;33m[\u001B[0m\u001B[0mpart_index\u001B[0m\u001B[1;33m]\u001B[0m\u001B[1;33m.\u001B[0m\u001B[0mtimeSignature\u001B[0m \u001B[1;33m=\u001B[0m \u001B[0mmeter\u001B[0m\u001B[1;33m.\u001B[0m\u001B[0mTimeSignature\u001B[0m\u001B[1;33m(\u001B[0m\u001B[0mtime_sig\u001B[0m\u001B[1;33m)\u001B[0m\u001B[1;33m\u001B[0m\u001B[1;33m\u001B[0m\u001B[0m\n\u001B[0;32m     36\u001B[0m         \u001B[1;32mfor\u001B[0m \u001B[0mi\u001B[0m \u001B[1;32min\u001B[0m \u001B[0mrange\u001B[0m\u001B[1;33m(\u001B[0m\u001B[0mlength\u001B[0m\u001B[1;33m)\u001B[0m\u001B[1;33m:\u001B[0m\u001B[1;33m\u001B[0m\u001B[1;33m\u001B[0m\u001B[0m\n\u001B[1;32m---> 37\u001B[1;33m             \u001B[0mparts\u001B[0m\u001B[1;33m[\u001B[0m\u001B[0mpart_index\u001B[0m\u001B[1;33m]\u001B[0m\u001B[1;33m.\u001B[0m\u001B[0mappend\u001B[0m\u001B[1;33m(\u001B[0m\u001B[0mtranslate\u001B[0m\u001B[1;33m(\u001B[0m\u001B[0mvoices\u001B[0m\u001B[1;33m[\u001B[0m\u001B[0mpart_index\u001B[0m\u001B[1;33m]\u001B[0m\u001B[1;33m[\u001B[0m\u001B[0mi\u001B[0m\u001B[1;33m]\u001B[0m\u001B[1;33m,\u001B[0m \u001B[0mrhythm\u001B[0m\u001B[1;33m[\u001B[0m\u001B[0mi\u001B[0m\u001B[1;33m]\u001B[0m\u001B[1;33m)\u001B[0m\u001B[1;33m)\u001B[0m\u001B[1;33m\u001B[0m\u001B[1;33m\u001B[0m\u001B[0m\n\u001B[0m\u001B[0;32m     38\u001B[0m \u001B[1;33m\u001B[0m\u001B[0m\n\u001B[0;32m     39\u001B[0m     \u001B[1;32mfor\u001B[0m \u001B[0mi\u001B[0m \u001B[1;32min\u001B[0m \u001B[0mrange\u001B[0m\u001B[1;33m(\u001B[0m\u001B[0mlen\u001B[0m\u001B[1;33m(\u001B[0m\u001B[0mparts\u001B[0m\u001B[1;33m)\u001B[0m\u001B[1;33m)\u001B[0m\u001B[1;33m:\u001B[0m\u001B[1;33m\u001B[0m\u001B[1;33m\u001B[0m\u001B[0m\n",
      "\u001B[1;32m<ipython-input-61-c68702340100>\u001B[0m in \u001B[0;36mtranslate\u001B[1;34m(int_note, dur)\u001B[0m\n\u001B[0;32m      9\u001B[0m     \u001B[0mpitch\u001B[0m \u001B[1;33m=\u001B[0m \u001B[0mfirst_char_arr\u001B[0m\u001B[1;33m[\u001B[0m\u001B[0mint_note\u001B[0m \u001B[1;33m%\u001B[0m \u001B[1;36m12\u001B[0m\u001B[1;33m]\u001B[0m \u001B[1;33m+\u001B[0m \u001B[0mstr\u001B[0m\u001B[1;33m(\u001B[0m\u001B[0mint\u001B[0m\u001B[1;33m(\u001B[0m\u001B[1;36m2\u001B[0m \u001B[1;33m+\u001B[0m \u001B[0mint_note\u001B[0m \u001B[1;33m/\u001B[0m \u001B[1;36m12\u001B[0m\u001B[1;33m)\u001B[0m\u001B[1;33m)\u001B[0m\u001B[1;33m\u001B[0m\u001B[1;33m\u001B[0m\u001B[0m\n\u001B[0;32m     10\u001B[0m \u001B[1;33m\u001B[0m\u001B[0m\n\u001B[1;32m---> 11\u001B[1;33m     \u001B[1;32mif\u001B[0m \u001B[0mdur\u001B[0m \u001B[1;33m<\u001B[0m \u001B[1;36m0\u001B[0m\u001B[1;33m:\u001B[0m\u001B[1;33m\u001B[0m\u001B[1;33m\u001B[0m\u001B[0m\n\u001B[0m\u001B[0;32m     12\u001B[0m         \u001B[1;32mreturn\u001B[0m \u001B[0mnote\u001B[0m\u001B[1;33m.\u001B[0m\u001B[0mRest\u001B[0m\u001B[1;33m(\u001B[0m\u001B[0mduration\u001B[0m\u001B[1;33m=\u001B[0m\u001B[0mduration\u001B[0m\u001B[1;33m.\u001B[0m\u001B[0mDuration\u001B[0m\u001B[1;33m(\u001B[0m\u001B[0mquarterLength\u001B[0m\u001B[1;33m=\u001B[0m\u001B[1;33m-\u001B[0m\u001B[0mdur\u001B[0m\u001B[1;33m)\u001B[0m\u001B[1;33m)\u001B[0m\u001B[1;33m\u001B[0m\u001B[1;33m\u001B[0m\u001B[0m\n\u001B[0;32m     13\u001B[0m     \u001B[1;32mreturn\u001B[0m \u001B[0mnote\u001B[0m\u001B[1;33m.\u001B[0m\u001B[0mNote\u001B[0m\u001B[1;33m(\u001B[0m\u001B[0mpitch\u001B[0m\u001B[1;33m,\u001B[0m \u001B[0mduration\u001B[0m\u001B[1;33m=\u001B[0m\u001B[0mduration\u001B[0m\u001B[1;33m.\u001B[0m\u001B[0mDuration\u001B[0m\u001B[1;33m(\u001B[0m\u001B[0mquarterLength\u001B[0m\u001B[1;33m=\u001B[0m\u001B[0mdur\u001B[0m\u001B[1;33m)\u001B[0m\u001B[1;33m)\u001B[0m\u001B[1;33m\u001B[0m\u001B[1;33m\u001B[0m\u001B[0m\n",
      "\u001B[1;31mTypeError\u001B[0m: '<' not supported between instances of 'NoneType' and 'int'"
     ]
    }
   ],
   "source": [
    "bolero_rhythm = sequence_from_string_bolero(run_bolero_for(3, False))\n",
    "length = int(len(bolero_rhythm))\n",
    "bolero_score = combine_voices(length, bolero_rhythm, [[3 for i in range(length)]], inst=[instrument.Woodblock()], time_sig=\"3/4\")\n",
    "play(bolero_score)"
   ]
  },
  {
   "cell_type": "code",
   "execution_count": null,
   "metadata": {
    "pycharm": {
     "name": "#%%\n"
    }
   },
   "outputs": [],
   "source": [
    "bolero_score.show()"
   ]
  },
  {
   "cell_type": "markdown",
   "metadata": {
    "pycharm": {
     "name": "#%% md\n"
    }
   },
   "source": [
    "TODO"
   ]
  }
 ],
 "metadata": {
  "kernelspec": {
   "display_name": "Python 3",
   "language": "python",
   "name": "python3"
  },
  "language_info": {
   "codemirror_mode": {
    "name": "ipython",
    "version": 3
   },
   "file_extension": ".py",
   "mimetype": "text/x-python",
   "name": "python",
   "nbconvert_exporter": "python",
   "pygments_lexer": "ipython3",
   "version": "3.8.5"
  }
 },
 "nbformat": 4,
 "nbformat_minor": 1
}