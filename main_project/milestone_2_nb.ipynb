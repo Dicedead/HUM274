{
 "cells": [
  {
   "cell_type": "markdown",
   "metadata": {
    "collapsed": true,
    "pycharm": {
     "name": "#%% md\n"
    }
   },
   "source": [
    "# Group 12 - HUM-274: Milestone 2"
   ]
  },
  {
   "cell_type": "code",
   "execution_count": 2,
   "metadata": {
    "pycharm": {
     "name": "#%%\n"
    }
   },
   "outputs": [],
   "source": [
    "from math import fabs\n",
    "from music21 import midi, note, stream, instrument, meter, duration"
   ]
  },
  {
   "cell_type": "markdown",
   "metadata": {},
   "source": [
    "### 4) Adding complexity back\n",
    "\n",
    "The previous part sees the deconstruction of the piece down to urban noises. This part stalls a little bit in this realm\n",
    "of noise by injecting some rhythmic complexity first through a carefully chosen L-System, which we will reuse later.\n",
    "\n",
    "Indeed, the L-System abstraction is really powerful as you can easily construct complex phenomena with varying effects.\n",
    "First, here's our general purpose L-System implementation:"
   ]
  },
  {
   "cell_type": "code",
   "execution_count": 3,
   "metadata": {
    "pycharm": {
     "name": "#%%\n"
    }
   },
   "outputs": [],
   "source": [
    "class Rule:\n",
    "    \"\"\"\n",
    "    Encodes L Systems' replacement rules.\n",
    "    \"\"\"\n",
    "\n",
    "    def __init__(self, base: str, replacement: str):\n",
    "        \"\"\"\n",
    "        :param base: string,\n",
    "        :param replacement: string\n",
    "        \"\"\"\n",
    "        self.base = base\n",
    "        self.replacement = replacement\n",
    "\n",
    "\n",
    "class LSystem:\n",
    "    \"\"\"\n",
    "    L System's functionality.\n",
    "    \"\"\"\n",
    "\n",
    "    def __init__(self, *rules):\n",
    "        \"\"\"\n",
    "        An L System = a set of rules\n",
    "\n",
    "        :param rules: List[Rule]\n",
    "        \"\"\"\n",
    "        self.rules = {}\n",
    "        [self.rules.update({rule.base: rule.replacement}) for rule in rules]\n",
    "\n",
    "    def replace(self, base, show_mode: bool = False):\n",
    "        \"\"\"\n",
    "        The brains of an L System, doing the simple task of applying each rule recursively\n",
    "\n",
    "        :param base: some base string\n",
    "        :param show_mode: boolean deciding whether to put separating brackets or not between rule applications\n",
    "        :return: result of applications of all replacement rules on base string\n",
    "        \"\"\"\n",
    "        new_string = \"\"\n",
    "        for c in base:\n",
    "            if c in self.rules:\n",
    "                if show_mode:\n",
    "                    new_string += \"<\"\n",
    "                new_string += self.rules.get(c)\n",
    "                if show_mode:\n",
    "                    new_string += \">\"\n",
    "            else:\n",
    "                new_string += c\n",
    "        return new_string\n",
    "\n",
    "    def run(self, initial: str, nb_iterations: int, show_mode: bool = False):\n",
    "        \"\"\"\n",
    "        Applies the replace method nb_iterations times with base string initial\n",
    "\n",
    "        :param initial: first base string\n",
    "        :param nb_iterations: how many times rules replacements should occur\n",
    "        :param show_mode: boolean deciding whether to put separating brackets or not between rule applications\n",
    "        :return: last result of rule applications\n",
    "        \"\"\"\n",
    "        string = initial\n",
    "        for i in range(nb_iterations):\n",
    "            string = self.replace(string, show_mode)\n",
    "        return string"
   ]
  },
  {
   "cell_type": "markdown",
   "metadata": {
    "pycharm": {
     "name": "#%% md\n"
    }
   },
   "source": [
    "This abstraction produces strings which are consequently mapped to musical elements. This is where a human can have\n",
    "control over the L-System. See, for example, this function mapping L-System sequences to durations."
   ]
  },
  {
   "cell_type": "code",
   "execution_count": 4,
   "metadata": {
    "pycharm": {
     "name": "#%%\n"
    }
   },
   "outputs": [],
   "source": [
    "def sequence_from_string_complex(string: str):\n",
    "    \"\"\"\n",
    "    To use with chars: A, B, C, D, E, F, +, -, [, ]\n",
    "    A: half note\n",
    "    B: quarter\n",
    "    C: eighth\n",
    "    D: sixteenth\n",
    "    E: triplet\n",
    "    F: quintuplet\n",
    "    +: add previous and next duration\n",
    "    -: make previous note a rest (value: -1 * duration of rest)\n",
    "    [: extend previous duration by 50%\n",
    "    ]: divide previous duration by 2\n",
    "    :param string: input string\n",
    "    :return: sequence of durations (ints)\n",
    "    \"\"\"\n",
    "\n",
    "    def char_to_duration(c: str, tb: list):\n",
    "        if c == 'A':\n",
    "            tb.append(2)\n",
    "        elif c == 'B':\n",
    "            tb.append(1)\n",
    "        elif c == 'C':\n",
    "            tb.append(1 / 2)\n",
    "        elif c == 'D':\n",
    "            tb.append(1 / 4)\n",
    "        elif c == 'E':\n",
    "            tb.append(1 / 3)\n",
    "        elif c == 'F':\n",
    "            tb.append(1 / 5)\n",
    "        elif c == '[':\n",
    "            if len(tb) > 0:\n",
    "                tb[-1] = tb[-1] + 0.5 * tb[-1]\n",
    "        elif c == ']':\n",
    "            if len(tb) > 0:\n",
    "                if tb[-1] > float(1.0 / 1024):\n",
    "                    tb[-1] = tb[-1] / 2\n",
    "        elif c == '-':\n",
    "            if len(tb) > 0:\n",
    "                tb[-1] = -tb[-1]\n",
    "        return tb[-1]\n",
    "\n",
    "    def is_duration_char(c: str):\n",
    "        return c in ['A', 'B', 'C', 'D', 'E', 'F']\n",
    "\n",
    "    str_arr = [c for c in string]\n",
    "    tab = []\n",
    "    while not len(str_arr) == 0:\n",
    "        nb_chars_read = 1\n",
    "\n",
    "        if str_arr[0] == '+' and len(str_arr) >= 2:\n",
    "            nb_chars_read = 2\n",
    "            if len(tab) > 0 and is_duration_char(str_arr[1]):\n",
    "                old_read = tab[-1]\n",
    "                new_read = char_to_duration(str_arr[1], tab)\n",
    "                new_dur = fabs(old_read) + fabs(new_read)\n",
    "                if old_read < 0:\n",
    "                    new_dur = -new_dur\n",
    "                tab[-2] = new_dur\n",
    "                tab = tab[:-1]\n",
    "\n",
    "        else:\n",
    "            char_to_duration(str_arr[0], tab)\n",
    "\n",
    "        str_arr = str_arr[nb_chars_read:]  # remove chars read\n",
    "    return tab"
   ]
  },
  {
   "cell_type": "markdown",
   "metadata": {},
   "source": [
    "As we only care, in this section, about rhythmic quantities, we'll go ahead and use the helper functions given in the\n",
    "second notebook of the course:"
   ]
  },
  {
   "cell_type": "code",
   "execution_count": 18,
   "metadata": {
    "pycharm": {
     "name": "#%%\n"
    }
   },
   "outputs": [],
   "source": [
    "def translate(int_note, dur):\n",
    "    \"\"\"\n",
    "    Given an integer value of a note, get a corresponding music21.note object\n",
    "    :param int_note: integer value of the note\n",
    "    :param dur: duration of desired note - if negative, interpret as rest\n",
    "    :return music21.note\n",
    "    \"\"\"\n",
    "    first_char_arr = [\"C\", \"C#\", \"D\", \"D#\", \"E\", \"F\", \"F#\", \"G\", \"G#\", \"A\", \"A#\", \"B\"]\n",
    "    pitch = first_char_arr[int_note % 12] + str(int(2 + int_note / 12))\n",
    "\n",
    "    if dur < 0:\n",
    "        return note.Rest(duration=duration.Duration(quarterLength= -dur))\n",
    "    return note.Note(pitch, duration=duration.Duration(quarterLength= dur))\n",
    "\n",
    "def combine_voices(length: int, rhythm, *voices, inst=None, time_sig='4/4'):\n",
    "    \"\"\"\n",
    "    :param time_sig: well..\n",
    "    :param inst: list of used instruments\n",
    "    :param length: common length of voices to consider\n",
    "    :param rhythm: rhythmic line: sequence of durations\n",
    "    :param voices: sequences of integers encoding notes\n",
    "    :return stream of chords\n",
    "    \"\"\"\n",
    "\n",
    "    if inst is None:\n",
    "        inst = [instrument.Piano()]\n",
    "    voices = voices[0]\n",
    "    score = stream.Score()\n",
    "    score.timeSignature = meter.TimeSignature(time_sig)\n",
    "\n",
    "    parts = [stream.Stream() for _ in range(len(voices))]\n",
    "    for part_index in range(len(voices)):\n",
    "        parts[part_index].timeSignature = meter.TimeSignature(time_sig)\n",
    "        for i in range(length):\n",
    "            parts[part_index].append(translate(voices[part_index][i], rhythm[i]))\n",
    "\n",
    "    for i in range(len(parts)):\n",
    "        parts[i].insert(0, inst[i])\n",
    "        score.insert(0, parts[i])\n",
    "\n",
    "    return score\n",
    "\n",
    "def play(score):\n",
    "    # Shortcut to play a stream\n",
    "    midi.realtime.StreamPlayer(score).play()\n"
   ]
  },
  {
   "cell_type": "markdown",
   "metadata": {},
   "source": [
    "Last but not least, let's put the pieces together! Let's define some rules and see what comes out."
   ]
  },
  {
   "cell_type": "code",
   "execution_count": 20,
   "metadata": {
    "pycharm": {
     "name": "#%%\n"
    }
   },
   "outputs": [
    {
     "name": "stdout",
     "output_type": "stream",
     "text": [
      "51 notes kept\n",
      "<music21.stream.Score 0x263ef655a30>\n"
     ]
    },
    {
     "ename": "KeyboardInterrupt",
     "evalue": "",
     "output_type": "error",
     "traceback": [
      "\u001B[1;31m---------------------------------------------------------------------------\u001B[0m",
      "\u001B[1;31mKeyboardInterrupt\u001B[0m                         Traceback (most recent call last)",
      "\u001B[1;32m<ipython-input-20-fa1087b12068>\u001B[0m in \u001B[0;36m<module>\u001B[1;34m\u001B[0m\n\u001B[0;32m     25\u001B[0m \u001B[0mscore\u001B[0m \u001B[1;33m=\u001B[0m \u001B[0mcombine_voices\u001B[0m\u001B[1;33m(\u001B[0m\u001B[0mlength\u001B[0m\u001B[1;33m,\u001B[0m \u001B[0mrhythm\u001B[0m\u001B[1;33m,\u001B[0m \u001B[1;33m[\u001B[0m\u001B[1;33m[\u001B[0m\u001B[1;36m0\u001B[0m \u001B[1;32mfor\u001B[0m \u001B[0mi\u001B[0m \u001B[1;32min\u001B[0m \u001B[0mrange\u001B[0m\u001B[1;33m(\u001B[0m\u001B[0mlength\u001B[0m\u001B[1;33m)\u001B[0m\u001B[1;33m]\u001B[0m\u001B[1;33m]\u001B[0m\u001B[1;33m,\u001B[0m \u001B[0minst\u001B[0m\u001B[1;33m=\u001B[0m\u001B[1;32mNone\u001B[0m\u001B[1;33m,\u001B[0m \u001B[0mtime_sig\u001B[0m\u001B[1;33m=\u001B[0m\u001B[1;34m\"3/4\"\u001B[0m\u001B[1;33m)\u001B[0m\u001B[1;33m\u001B[0m\u001B[1;33m\u001B[0m\u001B[0m\n\u001B[0;32m     26\u001B[0m \u001B[1;33m\u001B[0m\u001B[0m\n\u001B[1;32m---> 27\u001B[1;33m \u001B[0mplay\u001B[0m\u001B[1;33m(\u001B[0m\u001B[0mscore\u001B[0m\u001B[1;33m)\u001B[0m\u001B[1;33m\u001B[0m\u001B[1;33m\u001B[0m\u001B[0m\n\u001B[0m",
      "\u001B[1;32m<ipython-input-18-63bb94396df9>\u001B[0m in \u001B[0;36mplay\u001B[1;34m(score)\u001B[0m\n\u001B[0;32m     42\u001B[0m     \u001B[1;31m# Shortcut to play a stream\u001B[0m\u001B[1;33m\u001B[0m\u001B[1;33m\u001B[0m\u001B[1;33m\u001B[0m\u001B[0m\n\u001B[0;32m     43\u001B[0m     \u001B[0mprint\u001B[0m\u001B[1;33m(\u001B[0m\u001B[0mscore\u001B[0m\u001B[1;33m)\u001B[0m\u001B[1;33m\u001B[0m\u001B[1;33m\u001B[0m\u001B[0m\n\u001B[1;32m---> 44\u001B[1;33m     \u001B[0mmidi\u001B[0m\u001B[1;33m.\u001B[0m\u001B[0mrealtime\u001B[0m\u001B[1;33m.\u001B[0m\u001B[0mStreamPlayer\u001B[0m\u001B[1;33m(\u001B[0m\u001B[0mscore\u001B[0m\u001B[1;33m)\u001B[0m\u001B[1;33m.\u001B[0m\u001B[0mplay\u001B[0m\u001B[1;33m(\u001B[0m\u001B[1;33m)\u001B[0m\u001B[1;33m\u001B[0m\u001B[1;33m\u001B[0m\u001B[0m\n\u001B[0m",
      "\u001B[1;32m~\\Anaconda3\\envs\\algo\\lib\\site-packages\\music21\\midi\\realtime.py\u001B[0m in \u001B[0;36mplay\u001B[1;34m(self, busyFunction, busyArgs, endFunction, endArgs, busyWaitMilliseconds, playForMilliseconds, blocked)\u001B[0m\n\u001B[0;32m    123\u001B[0m         '''\n\u001B[0;32m    124\u001B[0m         \u001B[0mstreamStringIOFile\u001B[0m \u001B[1;33m=\u001B[0m \u001B[0mself\u001B[0m\u001B[1;33m.\u001B[0m\u001B[0mgetStringOrBytesIOFile\u001B[0m\u001B[1;33m(\u001B[0m\u001B[1;33m)\u001B[0m\u001B[1;33m\u001B[0m\u001B[1;33m\u001B[0m\u001B[0m\n\u001B[1;32m--> 125\u001B[1;33m         self.playStringIOFile(streamStringIOFile, busyFunction, busyArgs,\n\u001B[0m\u001B[0;32m    126\u001B[0m                               \u001B[0mendFunction\u001B[0m\u001B[1;33m,\u001B[0m \u001B[0mendArgs\u001B[0m\u001B[1;33m,\u001B[0m \u001B[0mbusyWaitMilliseconds\u001B[0m\u001B[1;33m,\u001B[0m\u001B[1;33m\u001B[0m\u001B[1;33m\u001B[0m\u001B[0m\n\u001B[0;32m    127\u001B[0m                               playForMilliseconds=playForMilliseconds, blocked=blocked)\n",
      "\u001B[1;32m~\\Anaconda3\\envs\\algo\\lib\\site-packages\\music21\\midi\\realtime.py\u001B[0m in \u001B[0;36mplayStringIOFile\u001B[1;34m(self, stringIOFile, busyFunction, busyArgs, endFunction, endArgs, busyWaitMilliseconds, playForMilliseconds, blocked)\u001B[0m\n\u001B[0;32m    165\u001B[0m                 \u001B[0mself\u001B[0m\u001B[1;33m.\u001B[0m\u001B[0mpygame\u001B[0m\u001B[1;33m.\u001B[0m\u001B[0mmixer\u001B[0m\u001B[1;33m.\u001B[0m\u001B[0mmusic\u001B[0m\u001B[1;33m.\u001B[0m\u001B[0mstop\u001B[0m\u001B[1;33m(\u001B[0m\u001B[1;33m)\u001B[0m\u001B[1;33m\u001B[0m\u001B[1;33m\u001B[0m\u001B[0m\n\u001B[0;32m    166\u001B[0m                 \u001B[1;32mbreak\u001B[0m\u001B[1;33m\u001B[0m\u001B[1;33m\u001B[0m\u001B[0m\n\u001B[1;32m--> 167\u001B[1;33m             \u001B[0mpygameClock\u001B[0m\u001B[1;33m.\u001B[0m\u001B[0mtick\u001B[0m\u001B[1;33m(\u001B[0m\u001B[0mframerate\u001B[0m\u001B[1;33m)\u001B[0m\u001B[1;33m\u001B[0m\u001B[1;33m\u001B[0m\u001B[0m\n\u001B[0m\u001B[0;32m    168\u001B[0m \u001B[1;33m\u001B[0m\u001B[0m\n\u001B[0;32m    169\u001B[0m         \u001B[1;32mif\u001B[0m \u001B[0mendFunction\u001B[0m \u001B[1;32mis\u001B[0m \u001B[1;32mnot\u001B[0m \u001B[1;32mNone\u001B[0m\u001B[1;33m:\u001B[0m\u001B[1;33m\u001B[0m\u001B[1;33m\u001B[0m\u001B[0m\n",
      "\u001B[1;31mKeyboardInterrupt\u001B[0m: "
     ]
    }
   ],
   "source": [
    "def rules_complex():\n",
    "    rule_a = Rule(\"A\", \"BB[F+E-D+A]FF\")\n",
    "    rule_b = Rule(\"B\", \"D[E]-C\"\"D[E]-C\")\n",
    "    rule_c = Rule(\"C\", \"CD+C-CF-\")\n",
    "    rule_d = Rule(\"D\", \"AE+[D-D]D+ED\")\n",
    "    rule_e = Rule(\"E\", \"[E+-]B\")\n",
    "    rule_f = Rule(\"F\", \"F+[-B]B[[A]EF]\")\n",
    "    return LSystem(rule_a, rule_b, rule_c, rule_d, rule_e, rule_f)\n",
    "\n",
    "\n",
    "def initial_complex():\n",
    "    return \"F]AEE-B\"\n",
    "\n",
    "\n",
    "def chars_complex():\n",
    "    return [\"A\", \"B\", \"C\", \"D\", \"E\", \"F\"]\n",
    "\n",
    "\n",
    "def run_complex_for(n, show_mode=False):\n",
    "    return rules_complex().run(initial_complex(), n, show_mode)\n",
    "\n",
    "rhythm = sequence_from_string_complex(run_complex_for(4))\n",
    "length = int(len(rhythm) / 60)\n",
    "print(f\"{length} notes kept\")\n",
    "score = combine_voices(length, rhythm, [[0 for i in range(length)]], inst=None, time_sig=\"3/4\")\n",
    "\n",
    "play(score)"
   ]
  },
  {
   "cell_type": "code",
   "execution_count": 17,
   "metadata": {
    "pycharm": {
     "name": "#%%\n"
    }
   },
   "outputs": [
    {
     "data": {
      "image/png": "[encoded data removed]",
      "text/plain": [
       "<IPython.core.display.Image object>"
      ]
     },
     "metadata": {
      "image/png": {
       "height": 335,
       "width": 708
      }
     },
     "output_type": "display_data"
    }
   ],
   "source": [
    "score.show()"
   ]
  },
  {
   "cell_type": "markdown",
   "metadata": {
    "pycharm": {
     "name": "#%% md\n"
    }
   },
   "source": [
    "JUSTIFY WHY SUCH ERRATIC BEHAVIOUR\n",
    "\n",
    "And thus a rhythmically erratic\n",
    "Our next task is to add melodic values to these durations."
   ]
  },
  {
   "cell_type": "markdown",
   "metadata": {},
   "source": [
    "### 5) Convergence after chaos\n",
    "The second to last step of the composition sees a reconvergence to the main theme. Rhythm and melody converge separately\n",
    "to a theme resembling that of the *Boléro*.\n",
    "\n",
    "Let's start with rhythm. We need to find an appropriate L-System and a string to durations function. In the previous\n",
    "section, the artistic choice of complex chaos made it simple to come up with a berzerk L-System that generates\n",
    "random-sounding notes. The goal is reversed this time: *Boléro*'s main theme is very simple and very repetitive."
   ]
  },
  {
   "cell_type": "code",
   "execution_count": null,
   "metadata": {
    "pycharm": {
     "name": "#%%\n"
    }
   },
   "outputs": [],
   "source": [
    "def rules_bolero():\n",
    "    rule_a = Rule(\"A\", \"BB[F+E-D+A]FF\")\n",
    "    rule_b = Rule(\"B\", \"D[E]-C\"\"D[E]-C\")\n",
    "    rule_c = Rule(\"C\", \"CD+C-CF-\")\n",
    "    rule_d = Rule(\"D\", \"AE+[D-D]D+ED\")\n",
    "    rule_e = Rule(\"E\", \"[E+-]B\")\n",
    "    rule_f = Rule(\"F\", \"F+[-B]B[[A]EF]\")\n",
    "    return LSystem(\n",
    "    Rule(\"E\", \"E\"),\n",
    "    Rule(\"S\", \"\")\n",
    "    )\n",
    "\n",
    "def initial_bolero():\n",
    "    return \"F]AEE-B\"\n",
    "\n",
    "\n",
    "def chars_bolero():\n",
    "    return [\"A\", \"B\", \"C\", \"D\", \"E\", \"F\"]\n",
    "\n",
    "\n",
    "def run_bolero_for(n, show_mode=False):\n",
    "    return rules_complex().run(initial_complex(), n, show_mode)\n",
    "\n",
    "def sequence_from_string_bolero(string: str):\n",
    "    \"\"\"\n",
    "    To use with chars: A, B, C, D, E, F, +, -, [, ]\n",
    "    A: half note\n",
    "    B: quarter\n",
    "    C: eighth\n",
    "    D: sixteenth\n",
    "    E: triplet\n",
    "    F: quintuplet\n",
    "    +: add previous and next duration\n",
    "    -: make previous note a rest (value: -1 * duration of rest)\n",
    "    [: extend previous duration by 50%\n",
    "    ]: divide previous duration by 2\n",
    "    :param string: input string\n",
    "    :return: sequence of durations (ints)\n",
    "    \"\"\"\n",
    "\n",
    "    def char_to_duration(c: str, tb: list):\n",
    "        if c == 'A':\n",
    "            tb.append(2)\n",
    "        elif c == 'B':\n",
    "            tb.append(1)\n",
    "        elif c == 'C':\n",
    "            tb.append(1 / 2)\n",
    "        elif c == 'D':\n",
    "            tb.append(1 / 4)\n",
    "        elif c == 'E':\n",
    "            tb.append(1 / 3)\n",
    "        elif c == 'F':\n",
    "            tb.append(1 / 5)\n",
    "        elif c == '[':\n",
    "            if len(tb) > 0:\n",
    "                tb[-1] = tb[-1] + 0.5 * tb[-1]\n",
    "        elif c == ']':\n",
    "            if len(tb) > 0:\n",
    "                if tb[-1] > float(1.0 / 1024):\n",
    "                    tb[-1] = tb[-1] / 2\n",
    "        elif c == '-':\n",
    "            if len(tb) > 0:\n",
    "                tb[-1] = -tb[-1]\n",
    "        return tb[-1]\n",
    "\n",
    "    def is_duration_char(c: str):\n",
    "        return c in ['A', 'B', 'C', 'D', 'E', 'F']\n",
    "\n",
    "    str_arr = [c for c in string]\n",
    "    tab = []\n",
    "    while not len(str_arr) == 0:\n",
    "        nb_chars_read = 1\n",
    "\n",
    "        if str_arr[0] == '+' and len(str_arr) >= 2:\n",
    "            nb_chars_read = 2\n",
    "            if len(tab) > 0 and is_duration_char(str_arr[1]):\n",
    "                old_read = tab[-1]\n",
    "                new_read = char_to_duration(str_arr[1], tab)\n",
    "                new_dur = fabs(old_read) + fabs(new_read)\n",
    "                if old_read < 0:\n",
    "                    new_dur = -new_dur\n",
    "                tab[-2] = new_dur\n",
    "                tab = tab[:-1]\n",
    "\n",
    "        else:\n",
    "            char_to_duration(str_arr[0], tab)\n",
    "\n",
    "        str_arr = str_arr[nb_chars_read:]  # remove chars read\n",
    "    return tab\n"
   ]
  }
 ],
 "metadata": {
  "kernelspec": {
   "display_name": "Python 3",
   "language": "python",
   "name": "python3"
  },
  "language_info": {
   "codemirror_mode": {
    "name": "ipython",
    "version": 3
   },
   "file_extension": ".py",
   "mimetype": "text/x-python",
   "name": "python",
   "nbconvert_exporter": "python",
   "pygments_lexer": "ipython3",
   "version": "3.8.5"
  }
 },
 "nbformat": 4,
 "nbformat_minor": 1
}