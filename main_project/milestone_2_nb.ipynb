{
 "cells": [
  {
   "cell_type": "markdown",
   "metadata": {
    "collapsed": true,
    "pycharm": {
     "name": "#%% md\n"
    }
   },
   "source": [
    "# Group 12 - HUM-274: Milestone 2"
   ]
  },
  {
   "cell_type": "code",
   "execution_count": null,
   "outputs": [],
   "source": [
    "from math import fabs\n",
    "from music21 import midi, note, stream, instrument, meter"
   ],
   "metadata": {
    "collapsed": false,
    "pycharm": {
     "name": "#%%\n"
    }
   }
  },
  {
   "cell_type": "markdown",
   "source": [
    "### 4) Adding complexity back\n",
    "\n",
    "The previous part sees the deconstruction of the piece down to urban noises. This part stalls a little bit in this realm\n",
    "of noise by injecting some rhythmic complexity first through a carefully chosen L-System, which we will reuse later.\n",
    "\n",
    "Indeed, the L-System abstraction is really powerful as you can easily construct complex phenomena with varying effects.\n",
    "First, here's our general purpose L-System implementation:"
   ],
   "metadata": {
    "collapsed": false
   }
  },
  {
   "cell_type": "code",
   "execution_count": null,
   "outputs": [],
   "source": [
    "class Rule:\n",
    "    \"\"\"\n",
    "    Encodes L Systems' replacement rules.\n",
    "    \"\"\"\n",
    "\n",
    "    def __init__(self, base: str, replacement: str):\n",
    "        \"\"\"\n",
    "        :param base: string,\n",
    "        :param replacement: string\n",
    "        \"\"\"\n",
    "        self.base = base\n",
    "        self.replacement = replacement\n",
    "\n",
    "\n",
    "class LSystem:\n",
    "    \"\"\"\n",
    "    L System's functionality.\n",
    "    \"\"\"\n",
    "\n",
    "    def __init__(self, *rules):\n",
    "        \"\"\"\n",
    "        An L System = a set of rules\n",
    "\n",
    "        :param rules: List[Rule]\n",
    "        \"\"\"\n",
    "        self.rules = {}\n",
    "        [self.rules.update({rule.base: rule.replacement}) for rule in rules]\n",
    "\n",
    "    def replace(self, base, show_mode: bool = False):\n",
    "        \"\"\"\n",
    "        The brains of an L System, doing the simple task of applying each rule recursively\n",
    "\n",
    "        :param base: some base string\n",
    "        :param show_mode: boolean deciding whether to put separating brackets or not between rule applications\n",
    "        :return: result of applications of all replacement rules on base string\n",
    "        \"\"\"\n",
    "        new_string = \"\"\n",
    "        for c in base:\n",
    "            if c in self.rules:\n",
    "                if show_mode:\n",
    "                    new_string += \"<\"\n",
    "                new_string += self.rules.get(c)\n",
    "                if show_mode:\n",
    "                    new_string += \">\"\n",
    "            else:\n",
    "                new_string += c\n",
    "        return new_string\n",
    "\n",
    "    def run(self, initial: str, nb_iterations: int, show_mode: bool = False):\n",
    "        \"\"\"\n",
    "        Applies the replace method nb_iterations times with base string initial\n",
    "\n",
    "        :param initial: first base string\n",
    "        :param nb_iterations: how many times rules replacements should occur\n",
    "        :param show_mode: boolean deciding whether to put separating brackets or not between rule applications\n",
    "        :return: last result of rule applications\n",
    "        \"\"\"\n",
    "        string = initial\n",
    "        for i in range(nb_iterations):\n",
    "            string = self.replace(string, show_mode)\n",
    "        return string"
   ],
   "metadata": {
    "collapsed": false,
    "pycharm": {
     "name": "#%%\n"
    }
   }
  },
  {
   "cell_type": "markdown",
   "source": [
    "This abstraction produces strings which are consequently mapped to musical elements. This is where a human can have\n",
    "control over the L-System. See, for example, this function mapping L-System sequences to durations."
   ],
   "metadata": {
    "collapsed": false,
    "pycharm": {
     "name": "#%% md\n"
    }
   }
  },
  {
   "cell_type": "code",
   "execution_count": null,
   "outputs": [],
   "source": [
    "def sequence_from_string_complex(string: str):\n",
    "    \"\"\"\n",
    "    To use with chars: A, B, C, D, E, F, +, -, [, ]\n",
    "    A: half note\n",
    "    B: quarter\n",
    "    C: eighth\n",
    "    D: sixteenth\n",
    "    E: triplet\n",
    "    F: quintuplet\n",
    "    +: add previous and next duration\n",
    "    -: make previous note a rest (value: -1 * duration of rest)\n",
    "    [: extend previous duration by 50%\n",
    "    ]: divide previous duration by 2\n",
    "    :param string: input string\n",
    "    :return: sequence of durations (ints)\n",
    "    \"\"\"\n",
    "\n",
    "    def char_to_duration(c: str, tb: list):\n",
    "        if c == 'A':\n",
    "            tb.append(2)\n",
    "        elif c == 'B':\n",
    "            tb.append(1)\n",
    "        elif c == 'C':\n",
    "            tb.append(1 / 2)\n",
    "        elif c == 'D':\n",
    "            tb.append(1 / 4)\n",
    "        elif c == 'E':\n",
    "            tb.append(1 / 3)\n",
    "        elif c == 'F':\n",
    "            tb.append(1 / 5)\n",
    "        elif c == '[':\n",
    "            if len(tb) > 0:\n",
    "                tb[-1] = tb[-1] + 0.5 * tb[-1]\n",
    "        elif c == ']':\n",
    "            if len(tb) > 0:\n",
    "                if tb[-1] > float(1.0 / 1024):\n",
    "                    tb[-1] = tb[-1] / 2\n",
    "        elif c == '-':\n",
    "            if len(tb) > 0:\n",
    "                tb[-1] = -tb[-1]\n",
    "        return tb[-1]\n",
    "\n",
    "    def is_duration_char(c: str):\n",
    "        return c in ['A', 'B', 'C', 'D', 'E', 'F']\n",
    "\n",
    "    str_arr = [c for c in string]\n",
    "    tab = []\n",
    "    while not len(str_arr) == 0:\n",
    "        nb_chars_read = 1\n",
    "\n",
    "        if str_arr[0] == '+' and len(str_arr) >= 2:\n",
    "            nb_chars_read = 2\n",
    "            if len(tab) > 0 and is_duration_char(str_arr[1]):\n",
    "                old_read = tab[-1]\n",
    "                new_read = char_to_duration(str_arr[1], tab)\n",
    "                new_dur = fabs(old_read) + fabs(new_read)\n",
    "                if old_read < 0:\n",
    "                    new_dur = -new_dur\n",
    "                tab[-2] = new_dur\n",
    "                tab = tab[:-1]\n",
    "\n",
    "        else:\n",
    "            char_to_duration(str_arr[0], tab)\n",
    "\n",
    "        str_arr = str_arr[nb_chars_read:]  # remove chars read\n",
    "    return tab"
   ],
   "metadata": {
    "collapsed": false,
    "pycharm": {
     "name": "#%%\n"
    }
   }
  },
  {
   "cell_type": "markdown",
   "source": [
    "As we only care, in this section, about rhythmic quantities, we'll go ahead and use the helper functions given in the\n",
    "second notebook of the course:"
   ],
   "metadata": {
    "collapsed": false
   }
  },
  {
   "cell_type": "code",
   "execution_count": null,
   "outputs": [],
   "source": [
    "def quarter_length():\n",
    "    return 1/ 4\n",
    "\n",
    "def create_percussion(instru=instrument.Woodblock(), time_sig=None):\n",
    "    # Initialize a percussion stream with Woodblock timbre\n",
    "    # If time signature is None, no measure splits\n",
    "    if time_sig is None:\n",
    "        drum_part = stream.Measure()\n",
    "    else:\n",
    "        drum_part = stream.Stream()\n",
    "        drum_part.timeSignature = meter.TimeSignature(time_sig)\n",
    "\n",
    "    drum_part.insert(0, instru)\n",
    "    return drum_part\n",
    "\n",
    "\n",
    "def append_event(duration, original_stream, rest=False, pitch='C4'):\n",
    "    # Returns a new_stream obtained by appending a rhythmical event or a rest of given duration to the original_stream\n",
    "    new_stream = original_stream\n",
    "    if rest:\n",
    "        new_stream.append(note.Rest(quarterLength=duration * (4 * quarter_length())))\n",
    "    else:\n",
    "        new_stream.append(note.Note(pitch, quarterLength=duration * (4 * quarter_length())))\n",
    "    return new_stream\n",
    "\n",
    "\n",
    "def rhythm_from_sequence(durations, instru=instrument.Woodblock(), time_sig=None, pitch='C4', rhythm=None):\n",
    "    # Generate rhythmic stream from a list of durations. Rests are indicated by specifying a duration as a string\n",
    "    if rhythm is None:\n",
    "        # pass an existing stream 'rhythm' to append the durations, otherwise a new one will be created\n",
    "        rhythm = create_percussion(instru, time_sig)\n",
    "    for dur in durations:\n",
    "        is_rest = False\n",
    "        if dur != 0:\n",
    "            if dur < 0:\n",
    "                # if duration is given as a string, interpret as rest and turn string into a numerical value\n",
    "                is_rest = True\n",
    "                dur = -dur\n",
    "\n",
    "            rhythm = append_event(dur, rhythm, rest=is_rest, pitch=pitch)\n",
    "    return rhythm\n",
    "\n",
    "\n",
    "def play(score):\n",
    "    # Shortcut to play a stream\n",
    "    midi.realtime.StreamPlayer(score).play()\n"
   ],
   "metadata": {
    "collapsed": false,
    "pycharm": {
     "name": "#%%\n"
    }
   }
  },
  {
   "cell_type": "markdown",
   "source": [
    "Last but not least, let's put the pieces together! Let's define some rules and see what comes out."
   ],
   "metadata": {
    "collapsed": false
   }
  },
  {
   "cell_type": "code",
   "execution_count": null,
   "outputs": [],
   "source": [
    "def rules_complex():\n",
    "    rule_a = Rule(\"A\", \"BB[F+E-D+A]FF\")\n",
    "    rule_b = Rule(\"B\", \"D[E]-C\"\"D[E]-C\")\n",
    "    rule_c = Rule(\"C\", \"CD+C-CF-\")\n",
    "    rule_d = Rule(\"D\", \"AE+[D-D]D+ED\")\n",
    "    rule_e = Rule(\"E\", \"[E+-]B\")\n",
    "    rule_f = Rule(\"F\", \"F+[-B]B[[A]EF]\")\n",
    "    return LSystem(rule_a, rule_b, rule_c, rule_d, rule_e, rule_f)\n",
    "\n",
    "\n",
    "def initial_complex():\n",
    "    return \"F]AEE-B\"\n",
    "\n",
    "\n",
    "def chars_complex():\n",
    "    return [\"A\", \"B\", \"C\", \"D\", \"E\", \"F\"]\n",
    "\n",
    "\n",
    "def run_complex_for(n, show_mode=False):\n",
    "    return rules_complex().run(initial_complex(), n, show_mode)\n",
    "\n",
    "rhythm = rhythm_from_sequence(run_complex_for(40))\n",
    "play(rhythm)"
   ],
   "metadata": {
    "collapsed": false,
    "pycharm": {
     "name": "#%%\n"
    }
   }
  },
  {
   "cell_type": "code",
   "execution_count": null,
   "outputs": [],
   "source": [
    "rhythm.show()"
   ],
   "metadata": {
    "collapsed": false,
    "pycharm": {
     "name": "#%%\n"
    }
   }
  },
  {
   "cell_type": "markdown",
   "source": [
    "We can now freely add melodic values to these durations."
   ],
   "metadata": {
    "collapsed": false,
    "pycharm": {
     "name": "#%% md\n"
    }
   }
  },
  {
   "cell_type": "markdown",
   "source": [
    "### 5) Convergence after chaos\n",
    "The second to last step of the composition sees a reconvergence to the main theme. Rhythm and melody converge separately\n",
    "to a theme resembling that of the *Boléro*"
   ],
   "metadata": {
    "collapsed": false
   }
  },
  {
   "cell_type": "code",
   "execution_count": null,
   "outputs": [],
   "source": [],
   "metadata": {
    "collapsed": false,
    "pycharm": {
     "name": "#%%\n"
    }
   }
  }
 ],
 "metadata": {
  "kernelspec": {
   "display_name": "Python 3",
   "language": "python",
   "name": "python3"
  },
  "language_info": {
   "codemirror_mode": {
    "name": "ipython",
    "version": 2
   },
   "file_extension": ".py",
   "mimetype": "text/x-python",
   "name": "python",
   "nbconvert_exporter": "python",
   "pygments_lexer": "ipython2",
   "version": "2.7.6"
  }
 },
 "nbformat": 4,
 "nbformat_minor": 0
}